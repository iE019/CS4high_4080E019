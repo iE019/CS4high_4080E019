{
  "nbformat": 4,
  "nbformat_minor": 0,
  "metadata": {
    "colab": {
      "name": "Copy of Untitled23.ipynb",
      "provenance": [],
      "include_colab_link": true
    },
    "kernelspec": {
      "name": "python3",
      "display_name": "Python 3"
    }
  },
  "cells": [
    {
      "cell_type": "markdown",
      "metadata": {
        "id": "view-in-github",
        "colab_type": "text"
      },
      "source": [
        "<a href=\"https://colab.research.google.com/github/iE019/CS4high_4080E019/blob/master/CH13.ipynb\" target=\"_parent\"><img src=\"https://colab.research.google.com/assets/colab-badge.svg\" alt=\"Open In Colab\"/></a>"
      ]
    },
    {
      "cell_type": "code",
      "metadata": {
        "id": "p_AHSLsOwTEv",
        "colab_type": "code",
        "outputId": "a1777ec9-5add-4f73-99d2-8df8c304694c",
        "colab": {
          "base_uri": "https://localhost:8080/",
          "height": 69
        }
      },
      "source": [
        "#13-1-1\n",
        "num = int(input(\"Enter a number: \"))\n",
        "if num > 0:\n",
        "    print(\"num is positive\")\n",
        "print(\"finished comparing num to 0\") "
      ],
      "execution_count": 0,
      "outputs": [
        {
          "output_type": "stream",
          "text": [
            "Enter a number: 5\n",
            "num is positive\n",
            "finished comparing num to 0\n"
          ],
          "name": "stdout"
        }
      ]
    },
    {
      "cell_type": "code",
      "metadata": {
        "id": "6HRcKG8ls5p0",
        "colab_type": "code",
        "outputId": "489e3e0e-dff7-42c1-ac48-0ee654d52a67",
        "colab": {
          "base_uri": "https://localhost:8080/",
          "height": 52
        }
      },
      "source": [
        "#13-1-2\n",
        "num = int(input(\"Enter a number: \"))\n",
        "if num > 0:\n",
        "    print(\"num is positive\")\n",
        "print(\"finished comparing num to 0\") "
      ],
      "execution_count": 0,
      "outputs": [
        {
          "output_type": "stream",
          "text": [
            "Enter a number: -2\n",
            "finished comparing num to 0\n"
          ],
          "name": "stdout"
        }
      ]
    },
    {
      "cell_type": "code",
      "metadata": {
        "id": "KmHQogo2vKMT",
        "colab_type": "code",
        "outputId": "820c776a-9d25-4e6a-d8be-4c9806fddeef",
        "colab": {
          "base_uri": "https://localhost:8080/",
          "height": 69
        }
      },
      "source": [
        "#13-2-1\n",
        "num_a = int(input(\"Pick a number: \"))   \n",
        "if num_a > 0:\n",
        "    print(\"Your number is positive\")   \n",
        "if num_a < 0:\n",
        "    print(\"Your number is negative \") \n",
        "if num_a == 0: \n",
        "    print(\"Your number is zero\")\n",
        "print(\"Finished!\")"
      ],
      "execution_count": 0,
      "outputs": [
        {
          "output_type": "stream",
          "text": [
            "Pick a number: 5\n",
            "Your number is positive\n",
            "Finished!\n"
          ],
          "name": "stdout"
        }
      ]
    },
    {
      "cell_type": "code",
      "metadata": {
        "id": "4-b-mTyEwaOn",
        "colab_type": "code",
        "outputId": "9a524236-7114-4ce3-c63c-49ff59d95b14",
        "colab": {
          "base_uri": "https://localhost:8080/",
          "height": 69
        }
      },
      "source": [
        "#13-2-2\n",
        "num_a = int(input(\"Pick a number: \"))   \n",
        "if num_a > 0:\n",
        "    print(\"Your number is positive\")   \n",
        "if num_a < 0:\n",
        "    print(\"Your number is negative \") \n",
        "if num_a == 0: \n",
        "    print(\"Your number is zero\")\n",
        "print(\"Finished!\")"
      ],
      "execution_count": 0,
      "outputs": [
        {
          "output_type": "stream",
          "text": [
            "Pick a number: -5\n",
            "Your number is negative \n",
            "Finished!\n"
          ],
          "name": "stdout"
        }
      ]
    },
    {
      "cell_type": "code",
      "metadata": {
        "id": "-jeQ8YYNwa16",
        "colab_type": "code",
        "outputId": "c24a43e7-be36-45da-c470-41a8d3f2ded0",
        "colab": {
          "base_uri": "https://localhost:8080/",
          "height": 69
        }
      },
      "source": [
        "#13-2-3\n",
        "num_a = int(input(\"Pick a number: \"))   \n",
        "if num_a > 0:\n",
        "    print(\"Your number is positive\")   \n",
        "if num_a < 0:\n",
        "    print(\"Your number is negative \") \n",
        "if num_a == 0: \n",
        "    print(\"Your number is zero\")\n",
        "print(\"Finished!\")"
      ],
      "execution_count": 0,
      "outputs": [
        {
          "output_type": "stream",
          "text": [
            "Pick a number: 0\n",
            "Your number is zero\n",
            "Finished!\n"
          ],
          "name": "stdout"
        }
      ]
    },
    {
      "cell_type": "code",
      "metadata": {
        "id": "yvtknRrwwhxF",
        "colab_type": "code",
        "outputId": "f5097d8a-dec7-4498-cb08-c9df641217a0",
        "colab": {
          "base_uri": "https://localhost:8080/",
          "height": 104
        }
      },
      "source": [
        "#13-3-1非巢狀條件式\n",
        "num_a = int(input(\"Number? \"))\n",
        "num_b = int(input(\"Number? \"))\n",
        "if num_a < 0:\n",
        "   print(\"num_a is negative\") \n",
        "if num_b < 0:\n",
        "    print(\"num_b is negative\")\n",
        "print(\"Finished\")"
      ],
      "execution_count": 0,
      "outputs": [
        {
          "output_type": "stream",
          "text": [
            "Number? -1\n",
            "Number? -2\n",
            "num_a is negative\n",
            "num_b is negative\n",
            "Finished\n"
          ],
          "name": "stdout"
        }
      ]
    },
    {
      "cell_type": "code",
      "metadata": {
        "id": "VuH3fXDJxHIQ",
        "colab_type": "code",
        "outputId": "9d8aafa9-d844-4089-84f2-6d711d33bd6a",
        "colab": {
          "base_uri": "https://localhost:8080/",
          "height": 87
        }
      },
      "source": [
        "#13-3-2非巢狀條件式\n",
        "num_a = int(input(\"Number? \"))\n",
        "num_b = int(input(\"Number? \"))\n",
        "if num_a < 0:\n",
        "   print(\"num_a is negative\") \n",
        "if num_b < 0:\n",
        "    print(\"num_b is negative\")\n",
        "print(\"Finished\")"
      ],
      "execution_count": 0,
      "outputs": [
        {
          "output_type": "stream",
          "text": [
            "Number? 2\n",
            "Number? -2\n",
            "num_b is negative\n",
            "Finished\n"
          ],
          "name": "stdout"
        }
      ]
    },
    {
      "cell_type": "code",
      "metadata": {
        "id": "sIT2VM1UydKH",
        "colab_type": "code",
        "outputId": "9860abac-744c-47e5-8210-1706e13bc85b",
        "colab": {
          "base_uri": "https://localhost:8080/",
          "height": 87
        }
      },
      "source": [
        "# 13-3-1巢狀條件式\n",
        "num_a = int(input(\"Number? \"))\n",
        "num_b = int(input(\"Number? \"))\n",
        "if num_a < 0:      \n",
        "    print(\"num_a is negative\")\n",
        "    if num_b < 0:\n",
        "        print(\"num_b is negative\")\n",
        "print(\"Finished\")"
      ],
      "execution_count": 0,
      "outputs": [
        {
          "output_type": "stream",
          "text": [
            "Number? -2\n",
            "Number? 2\n",
            "num_a is negative\n",
            "Finished\n"
          ],
          "name": "stdout"
        }
      ]
    },
    {
      "cell_type": "code",
      "metadata": {
        "id": "Kq-aAVU-yefp",
        "colab_type": "code",
        "outputId": "a6853378-6610-47c0-f373-e88bdf114cdc",
        "colab": {
          "base_uri": "https://localhost:8080/",
          "height": 104
        }
      },
      "source": [
        "# 13-3-2巢狀條件式\n",
        "num_a = int(input(\"Number? \"))\n",
        "num_b = int(input(\"Number? \"))\n",
        "if num_a < 0:      \n",
        "    print(\"num_a is negative\")\n",
        "    if num_b < 0:\n",
        "        print(\"num_b is negative\")\n",
        "print(\"Finished\")"
      ],
      "execution_count": 0,
      "outputs": [
        {
          "output_type": "stream",
          "text": [
            "Number? -2\n",
            "Number? -3\n",
            "num_a is negative\n",
            "num_b is negative\n",
            "Finished\n"
          ],
          "name": "stdout"
        }
      ]
    },
    {
      "cell_type": "code",
      "metadata": {
        "id": "3veNuJjQy9Xr",
        "colab_type": "code",
        "outputId": "2ce87cc6-eabf-4828-fd1d-a621557bc717",
        "colab": {
          "base_uri": "https://localhost:8080/",
          "height": 69
        }
      },
      "source": [
        "# 13-3-3巢狀條件式\n",
        "num_a = int(input(\"Number? \"))\n",
        "num_b = int(input(\"Number? \"))\n",
        "if num_a < 0:      \n",
        "    print(\"num_a is negative\")\n",
        "    if num_b < 0:\n",
        "        print(\"num_b is negative\")\n",
        "print(\"Finished\")"
      ],
      "execution_count": 0,
      "outputs": [
        {
          "output_type": "stream",
          "text": [
            "Number? 2\n",
            "Number? -5\n",
            "Finished\n"
          ],
          "name": "stdout"
        }
      ]
    },
    {
      "cell_type": "code",
      "metadata": {
        "id": "04jeI5MFmo0f",
        "colab_type": "code",
        "outputId": "e7c99491-1e4f-4bfc-b499-907edd2bf0c4",
        "colab": {
          "base_uri": "https://localhost:8080/",
          "height": 69
        }
      },
      "source": [
        "#13-4-1\n",
        "price = float(input(\"How much does a chocolate bar cost? \"))\n",
        "hungry = input(\"Are you hungry(yes or no)? \")\n",
        "\n",
        "bars = 0\n",
        "if hungry == \"yes\": \n",
        "    if price < 10:\n",
        "        print(\"Buy all chocolate bars.\")\n",
        "        bar = 100\n",
        "    if 10 <= price <= 50:\n",
        "        print(\"Buy 10 chocolate bars.\")     \n",
        "        bars = 10\n",
        "    if price > 50:\n",
        "        print(\"Buy only one chocolate bar.\")\n",
        "        bars = 1\n",
        "if hungry == \"no\":\n",
        "    print(\"Stick to the shopping list.\")\n",
        "if bars > 10:\n",
        "    print(\"Cashier says: someone's hungry!\")"
      ],
      "execution_count": 0,
      "outputs": [
        {
          "output_type": "stream",
          "text": [
            "How much does a chocolate bar cost? 3\n",
            "Are you hungry(yes or no)? yes\n",
            "Buy all chocolate bars.\n"
          ],
          "name": "stdout"
        }
      ]
    },
    {
      "cell_type": "code",
      "metadata": {
        "id": "0z9bKynipfL7",
        "colab_type": "code",
        "outputId": "523a6457-6df0-439d-c39f-cf66cf7f3065",
        "colab": {
          "base_uri": "https://localhost:8080/",
          "height": 69
        }
      },
      "source": [
        "#13-4-2\n",
        "price = float(input(\"How much does a chocolate bar cost? \"))\n",
        "hungry = input(\"Are you hungry(yes or no)? \")\n",
        "\n",
        "bars = 0\n",
        "if hungry == \"yes\": \n",
        "    if price < 10:\n",
        "        print(\"Buy all chocolate bars.\")\n",
        "        bar = 100\n",
        "    if 10 <= price <= 50:\n",
        "        print(\"Buy 10 chocolate bars.\")     \n",
        "        bars = 10\n",
        "    if price > 50:\n",
        "        print(\"Buy only one chocolate bar.\")\n",
        "        bars = 1\n",
        "if hungry == \"no\":\n",
        "    print(\"Stick to the shopping list.\")\n",
        "if bars > 10:\n",
        "    print(\"Cashier says: someone's hungry!\")"
      ],
      "execution_count": 0,
      "outputs": [
        {
          "output_type": "stream",
          "text": [
            "How much does a chocolate bar cost? 25\n",
            "Are you hungry(yes or no)? yes\n",
            "Buy 10 chocolate bars.\n"
          ],
          "name": "stdout"
        }
      ]
    },
    {
      "cell_type": "code",
      "metadata": {
        "id": "2Uh9EpcApmAs",
        "colab_type": "code",
        "outputId": "61dc37f3-049c-4327-ca6e-80f152013b95",
        "colab": {
          "base_uri": "https://localhost:8080/",
          "height": 69
        }
      },
      "source": [
        "#13-4-3\n",
        "price = float(input(\"How much does a chocolate bar cost? \"))\n",
        "hungry = input(\"Are you hungry(yes or no)? \")\n",
        "\n",
        "bars = 0\n",
        "if hungry == \"yes\": \n",
        "    if price < 10:\n",
        "        print(\"Buy all chocolate bars.\")\n",
        "        bar = 100\n",
        "    if 10 <= price <= 50:\n",
        "        print(\"Buy 10 chocolate bars.\")     \n",
        "        bars = 10\n",
        "    if price > 50:\n",
        "        print(\"Buy only one chocolate bar.\")\n",
        "        bars = 1\n",
        "if hungry == \"no\":\n",
        "    print(\"Stick to the shopping list.\")\n",
        "if bars > 10:\n",
        "    print(\"Cashier says: someone's hungry!\")"
      ],
      "execution_count": 0,
      "outputs": [
        {
          "output_type": "stream",
          "text": [
            "How much does a chocolate bar cost? 60\n",
            "Are you hungry(yes or no)? yes\n",
            "Buy only one chocolate bar.\n"
          ],
          "name": "stdout"
        }
      ]
    },
    {
      "cell_type": "code",
      "metadata": {
        "id": "VQFi_6w8psHz",
        "colab_type": "code",
        "outputId": "3449c2de-9cf2-4d3b-a7d6-470ebf0fbe50",
        "colab": {
          "base_uri": "https://localhost:8080/",
          "height": 69
        }
      },
      "source": [
        "#13-4-4\n",
        "price = float(input(\"How much does a chocolate bar cost? \"))\n",
        "hungry = input(\"Are you hungry(yes or no)? \")\n",
        "\n",
        "bars = 0\n",
        "if hungry == \"yes\": \n",
        "    if price < 10:\n",
        "        print(\"Buy all chocolate bars.\")\n",
        "        bar = 100\n",
        "    if 10 <= price <= 50:\n",
        "        print(\"Buy 10 chocolate bars.\")     \n",
        "        bars = 10\n",
        "    if price > 50:\n",
        "        print(\"Buy only one chocolate bar.\")\n",
        "        bars = 1\n",
        "if hungry == \"no\":\n",
        "    print(\"Stick to the shopping list.\")\n",
        "if bars > 10:\n",
        "    print(\"Cashier says: someone's hungry!\")"
      ],
      "execution_count": 0,
      "outputs": [
        {
          "output_type": "stream",
          "text": [
            "How much does a chocolate bar cost? 22\n",
            "Are you hungry(yes or no)? no\n",
            "Stick to the shopping list.\n"
          ],
          "name": "stdout"
        }
      ]
    },
    {
      "cell_type": "code",
      "metadata": {
        "id": "Gdta05SOnX4B",
        "colab_type": "code",
        "outputId": "d87e2a4c-4451-45cc-9703-54e934533044",
        "colab": {
          "base_uri": "https://localhost:8080/",
          "height": 69
        }
      },
      "source": [
        "#13-5\n",
        "num_a = int(input(\"pick a number:\"))\n",
        "num_b = int(input(\"pick a number:\"))\n",
        "if num_a < 0 and num_b < 0: \n",
        "    print(\"both negative\")"
      ],
      "execution_count": 0,
      "outputs": [
        {
          "output_type": "stream",
          "text": [
            "pick a number:-5\n",
            "pick a number:-3\n",
            "both negative\n"
          ],
          "name": "stdout"
        }
      ]
    }
  ]
}
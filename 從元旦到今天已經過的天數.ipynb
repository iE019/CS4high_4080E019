{
  "nbformat": 4,
  "nbformat_minor": 0,
  "metadata": {
    "colab": {
      "name": "Untitled4.ipynb",
      "provenance": [],
      "include_colab_link": true
    },
    "kernelspec": {
      "name": "python3",
      "display_name": "Python 3"
    }
  },
  "cells": [
    {
      "cell_type": "markdown",
      "metadata": {
        "id": "view-in-github",
        "colab_type": "text"
      },
      "source": [
        "<a href=\"https://colab.research.google.com/github/iE019/CS4high_4080E019/blob/master/%E5%BE%9E%E5%85%83%E6%97%A6%E5%88%B0%E4%BB%8A%E5%A4%A9%E5%B7%B2%E7%B6%93%E9%81%8E%E7%9A%84%E5%A4%A9%E6%95%B8.ipynb\" target=\"_parent\"><img src=\"https://colab.research.google.com/assets/colab-badge.svg\" alt=\"Open In Colab\"/></a>"
      ]
    },
    {
      "cell_type": "code",
      "metadata": {
        "id": "-I5CrPH_JEW1",
        "colab_type": "code",
        "colab": {
          "base_uri": "https://localhost:8080/",
          "height": 35
        },
        "outputId": "87d24c83-694a-4317-bf7f-62cbcc8c1ae0"
      },
      "source": [
        "import time #引入時間的函數\n",
        "\n",
        "date=time.localtime() #取得美國當地的日期時間\n",
        "year=date[0]  #取得當地的日期中的第一個數字作為年\n",
        "month=date[1] #取得當地的日期中的第二個數字作為月\n",
        "day=date[2]   #取得當地的日期中的第三個數字做為日\n",
        "\n",
        "day_month=[31,28,31,30,31,30,31,31,30,31,30,31] #取得1到12月的最大天數\n",
        "\n",
        "if year%400==0 or (year%4==0 and year%100!=0): \n",
        "  day_month[1]=29 \n",
        "#如果年餘數除法400的餘數=0或(年餘數除法4的餘數=0和年餘數除法100的餘數不等於0)\n",
        "#則二月的最大天數改成29,因為是閏年\n",
        "\n",
        "if month==1: #如果,這個月是1月\n",
        "  print(day) #則只要輸出當地的日期中的第三個數字\n",
        "else: #否則\n",
        "  print(sum(day_month[:month-1])+day)\n",
        "#輸出的和=從1月的最大天數到目前的月的天數"
      ],
      "execution_count": 1,
      "outputs": [
        {
          "output_type": "stream",
          "text": [
            "264\n"
          ],
          "name": "stdout"
        }
      ]
    }
  ]
}
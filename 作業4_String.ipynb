{
  "nbformat": 4,
  "nbformat_minor": 0,
  "metadata": {
    "colab": {
      "name": "作業4-String.ipynb",
      "provenance": [],
      "include_colab_link": true
    },
    "kernelspec": {
      "name": "python3",
      "display_name": "Python 3"
    }
  },
  "cells": [
    {
      "cell_type": "markdown",
      "metadata": {
        "id": "view-in-github",
        "colab_type": "text"
      },
      "source": [
        "<a href=\"https://colab.research.google.com/github/iE019/CS4high_4080E019/blob/master/%E4%BD%9C%E6%A5%AD4_String.ipynb\" target=\"_parent\"><img src=\"https://colab.research.google.com/assets/colab-badge.svg\" alt=\"Open In Colab\"/></a>"
      ]
    },
    {
      "cell_type": "code",
      "metadata": {
        "id": "di9cqrLkAvkW",
        "colab_type": "code",
        "colab": {
          "base_uri": "https://localhost:8080/",
          "height": 34
        },
        "outputId": "f089a685-f9c5-4543-b6b6-cac91632fdec"
      },
      "source": [
        "first_name = 'Susan'\n",
        "print(first_name)"
      ],
      "execution_count": 4,
      "outputs": [
        {
          "output_type": "stream",
          "text": [
            "Susan\n"
          ],
          "name": "stdout"
        }
      ]
    },
    {
      "cell_type": "code",
      "metadata": {
        "id": "lY7q_Gg1IU_g",
        "colab_type": "code",
        "colab": {
          "base_uri": "https://localhost:8080/",
          "height": 51
        },
        "outputId": "f6565c43-169a-412e-9a6f-8ed23a1f65fc"
      },
      "source": [
        "first_name = 'Susan'\n",
        "last_name = 'Ibach'\n",
        "print(first_name + last_name)\n",
        "print('Hello ' + first_name + ' ' + last_name)\n"
      ],
      "execution_count": 5,
      "outputs": [
        {
          "output_type": "stream",
          "text": [
            "SusanIbach\n",
            "Hello Susan Ibach\n"
          ],
          "name": "stdout"
        }
      ]
    },
    {
      "cell_type": "code",
      "metadata": {
        "id": "tQm0k9FXIha6",
        "colab_type": "code",
        "colab": {
          "base_uri": "https://localhost:8080/",
          "height": 85
        },
        "outputId": "e60fbd76-f510-4ac9-bfd4-8249934347ed"
      },
      "source": [
        "sentence = 'The dog is named Sammy'\n",
        "print(sentence.upper())\n",
        "print(sentence.lower())\n",
        "print(sentence.capitalize())\n",
        "print(sentence.count('a'))\n"
      ],
      "execution_count": 6,
      "outputs": [
        {
          "output_type": "stream",
          "text": [
            "THE DOG IS NAMED SAMMY\n",
            "the dog is named sammy\n",
            "The dog is named sammy\n",
            "2\n"
          ],
          "name": "stdout"
        }
      ]
    },
    {
      "cell_type": "code",
      "metadata": {
        "id": "bpWSlTLBIkIp",
        "colab_type": "code",
        "colab": {
          "base_uri": "https://localhost:8080/",
          "height": 68
        },
        "outputId": "bfee206e-bc7a-441f-e01e-14bae3bf592d"
      },
      "source": [
        "first_name = input('What is your first name? ')\n",
        "last_name = input('What is your last name? ')\n",
        "print ('Hello ' + first_name.capitalize() + ' ' \\\n",
        "       + last_name.capitalize())\n"
      ],
      "execution_count": 7,
      "outputs": [
        {
          "output_type": "stream",
          "text": [
            "What is your first name? 王\n",
            "What is your last name? 家齊\n",
            "Hello 王 家齊\n"
          ],
          "name": "stdout"
        }
      ]
    }
  ]
}
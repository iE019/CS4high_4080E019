{
  "nbformat": 4,
  "nbformat_minor": 0,
  "metadata": {
    "colab": {
      "name": "Untitled3.ipynb",
      "provenance": [],
      "include_colab_link": true
    },
    "kernelspec": {
      "name": "python3",
      "display_name": "Python 3"
    }
  },
  "cells": [
    {
      "cell_type": "markdown",
      "metadata": {
        "id": "view-in-github",
        "colab_type": "text"
      },
      "source": [
        "<a href=\"https://colab.research.google.com/github/iE019/CS4high_4080E019/blob/master/%E6%94%B6%E9%8A%80%E5%8F%B0%E7%9A%84%E7%A8%8B%E5%BC%8F.ipynb\" target=\"_parent\"><img src=\"https://colab.research.google.com/assets/colab-badge.svg\" alt=\"Open In Colab\"/></a>"
      ]
    },
    {
      "cell_type": "code",
      "metadata": {
        "id": "-SB8LplUc3bJ",
        "colab_type": "code",
        "colab": {
          "base_uri": "https://localhost:8080/",
          "height": 52
        },
        "outputId": "654dbb7f-7d93-40ed-a6a9-00b6eee70eca"
      },
      "source": [
        "money=int(input(\"請輸入購物金額:\"))\n",
        "\n",
        "if(money>=10000):\n",
        "\n",
        "  if(money>=100000):\n",
        "    print(money*0.8,end=\"元\\n\") #八折\n",
        "  elif(money>=50000):\n",
        "    print(money*0.85,end=\"元\\n\") #八五折\n",
        "  elif(money>=30000):\n",
        "    print(money*0.9,end=\"元\\n\") #九折\n",
        "  else:\n",
        "    print(money*0.95,end=\"元\\n\") #九五折\n",
        "    \n",
        "else:\n",
        "  print(money,end=\"元\\n\") #未打折\n",
        "    "
      ],
      "execution_count": 8,
      "outputs": [
        {
          "output_type": "stream",
          "text": [
            "請輸入購物金額:5000\n",
            "5000元\n"
          ],
          "name": "stdout"
        }
      ]
    }
  ]
}
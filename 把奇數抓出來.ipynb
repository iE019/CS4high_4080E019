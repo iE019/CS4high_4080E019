{
  "nbformat": 4,
  "nbformat_minor": 0,
  "metadata": {
    "colab": {
      "name": "Untitled6.ipynb",
      "provenance": [],
      "include_colab_link": true
    },
    "kernelspec": {
      "name": "python3",
      "display_name": "Python 3"
    }
  },
  "cells": [
    {
      "cell_type": "markdown",
      "metadata": {
        "id": "view-in-github",
        "colab_type": "text"
      },
      "source": [
        "<a href=\"https://colab.research.google.com/github/iE019/CS4high_4080E019/blob/master/%E6%8A%8A%E5%A5%87%E6%95%B8%E6%8A%93%E5%87%BA%E4%BE%86.ipynb\" target=\"_parent\"><img src=\"https://colab.research.google.com/assets/colab-badge.svg\" alt=\"Open In Colab\"/></a>"
      ]
    },
    {
      "cell_type": "code",
      "metadata": {
        "id": "XIvX0RJsdl0C",
        "colab_type": "code",
        "colab": {
          "base_uri": "https://localhost:8080/",
          "height": 34
        },
        "outputId": "fffbed89-ecb8-42dd-a8df-a84e96a87335"
      },
      "source": [
        "numbers=[21,4,35,1,8,7,3,6,9]\n",
        "my_numbers=[]\n",
        "\n",
        "for number in numbers:\n",
        "  if(number%2!=0):\n",
        "    my_numbers.append(number)\n",
        "    \n",
        "print(my_numbers)"
      ],
      "execution_count": 1,
      "outputs": [
        {
          "output_type": "stream",
          "text": [
            "[21, 35, 1, 7, 3, 9]\n"
          ],
          "name": "stdout"
        }
      ]
    }
  ]
}
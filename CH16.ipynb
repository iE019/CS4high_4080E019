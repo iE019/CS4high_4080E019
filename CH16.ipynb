{
  "nbformat": 4,
  "nbformat_minor": 0,
  "metadata": {
    "colab": {
      "name": "CH16.ipynb",
      "provenance": [],
      "include_colab_link": true
    },
    "kernelspec": {
      "name": "python3",
      "display_name": "Python 3"
    }
  },
  "cells": [
    {
      "cell_type": "markdown",
      "metadata": {
        "id": "view-in-github",
        "colab_type": "text"
      },
      "source": [
        "<a href=\"https://colab.research.google.com/github/iE019/CS4high_4080E019/blob/master/CH16.ipynb\" target=\"_parent\"><img src=\"https://colab.research.google.com/assets/colab-badge.svg\" alt=\"Open In Colab\"/></a>"
      ]
    },
    {
      "cell_type": "code",
      "metadata": {
        "id": "8IHlFKljyJPL",
        "colab_type": "code",
        "colab": {
          "base_uri": "https://localhost:8080/",
          "height": 104
        },
        "outputId": "075eb193-e350-40ce-b62c-47f36fa49725"
      },
      "source": [
        "# 16-1\n",
        "s = input(\" 請輸入顯示內容 : \") #指定輸入的字串給變數s\n",
        "n = int(input(\" 請輸入顯示次數 : \"))  #指定輸入的整數給變數n\n",
        "while n > 0: #當變數n大於0時，持續執行迴圈，否則跳出迴圈\n",
        "    print(s) #列印出輸入的字串\n",
        "    n = n-1  #指定n-1的結果給變數n，用意是重複顯示的次數"
      ],
      "execution_count": 3,
      "outputs": [
        {
          "output_type": "stream",
          "text": [
            " 請輸入顯示內容 : 家齊\n",
            " 請輸入顯示次數 : 3\n",
            "家齊\n",
            "家齊\n",
            "家齊\n"
          ],
          "name": "stdout"
        }
      ]
    },
    {
      "cell_type": "code",
      "metadata": {
        "id": "P5N6aistzezG",
        "colab_type": "code",
        "colab": {
          "base_uri": "https://localhost:8080/",
          "height": 121
        },
        "outputId": "9b4b9834-8a1a-465e-e371-c3e717d201bf"
      },
      "source": [
        "# 16-2\n",
        "lucky_num = 77  #指定整數給變數lucky_num\n",
        "guess = int(input(\"Guess a Number(0-99): \")) #指定輸入整數(0到99)給變數guess\n",
        "tries = 1 #指定整數1給變數tries\n",
        "while guess != lucky_num:  #當輸入的整數不等於77時，持續執行迴圈，否則跳出迴圈\n",
        "    print(\"You tried to guess\", tries, \"times\") \n",
        "    #列印出字串You tried to guess，連接迴圈總共跑了幾圈的整數，再連接字串times\n",
        "    guess = int(input(\"Guess again: \"))\n",
        "    #指定再次輸入的整數給變數guess\n",
        "    tries += 1\n",
        "    #指定tries的值+1的結果給變數tries，用意是計算迴圈在跳出前，總共跑的圈數\n",
        "print(\"You got it!\")\n",
        "#滿足輸入的數字等於77此條件後，跳出迴圈，列印出字串You got it!"
      ],
      "execution_count": 5,
      "outputs": [
        {
          "output_type": "stream",
          "text": [
            "Guess a Number(0-99): 50\n",
            "You tried to guess 1 times\n",
            "Guess again: 75\n",
            "You tried to guess 2 times\n",
            "Guess again: 77\n",
            "You got it!\n"
          ],
          "name": "stdout"
        }
      ]
    },
    {
      "cell_type": "code",
      "metadata": {
        "id": "ihaB3H2C2qZD",
        "colab_type": "code",
        "colab": {
          "base_uri": "https://localhost:8080/",
          "height": 87
        },
        "outputId": "39afe9a9-ed65-47d4-c2b8-7bd95a01c5df"
      },
      "source": [
        "# 16-3\n",
        "secret = \"code\" #指定字串code給變數secret\n",
        "max_tries = 100 #指定整數100給變數max_tries\n",
        "guess = input(\"Guess a word: \")  #指定輸入的字串給變數guess\n",
        "tries = 1  #指定整數1給變數tries\n",
        "while guess != secret:  #當輸入的字串不等於code時，持續執行迴圈，否則跳出迴圈\n",
        "    print(\"You tried to guess\", tries, \"times\")\n",
        "    #列印出字串You tried to guess，連接迴圈總共跑了幾圈的整數，再連接字串times\n",
        "    if tries == max_tries:  #如果迴圈跑了100圈還沒猜到字串code\n",
        "        print(\"You ran out of tries.\") #列印出字串You ran out of tries.\n",
        "        break  #提早跳出迴圈\n",
        "    guess = input(\"Guess again: \")  #指定再次輸入的字串給變數guess\n",
        "    tries += 1\n",
        "    #指定tries的值+1的結果給變數tries，用意是計算迴圈在跳出前，總共跑的圈數\n",
        "if tries <= max_tries and guess == secret:  \n",
        "#如果迴圈總共跑的圈數小於等於100及猜中字串code\n",
        "    print(\"You got it!\") #則列印出字串You got it!"
      ],
      "execution_count": 6,
      "outputs": [
        {
          "output_type": "stream",
          "text": [
            "Guess a word: apple\n",
            "You tried to guess 1 times\n",
            "Guess again: code\n",
            "You got it!\n"
          ],
          "name": "stdout"
        }
      ]
    },
    {
      "cell_type": "code",
      "metadata": {
        "id": "L4OBh-HF5V_9",
        "colab_type": "code",
        "colab": {
          "base_uri": "https://localhost:8080/",
          "height": 35
        },
        "outputId": "3059c287-b456-4dbc-b0f5-471a776927eb"
      },
      "source": [
        "# 16-4\n",
        "i= 1  #指定整數1給變數i\n",
        "while(i < 10):  #當變數i小於10時，持續執行迴圈，否則跳出迴圈\n",
        "    if i == 5:  #如果變數等於整數5\n",
        "        i += 1  #則指定變數i的值+1的結果給變數i\n",
        "        continue #忽略整數5不印，返回迴圈的開頭，然後繼續執行迴圈\n",
        "    print(i, end=' ') \n",
        "    #以輸出1個空格代替換行的方式，列印出整數\n",
        "    i += 1  #指定變數i的值+1的結果給變數i\n",
        "print(\"End\") \n",
        "#滿足迴圈的條件，而跳出迴圈後，列印出字串End"
      ],
      "execution_count": 7,
      "outputs": [
        {
          "output_type": "stream",
          "text": [
            "1 2 3 4 6 7 8 9 End\n"
          ],
          "name": "stdout"
        }
      ]
    },
    {
      "cell_type": "code",
      "metadata": {
        "id": "hAS66SfL-EsT",
        "colab_type": "code",
        "colab": {
          "base_uri": "https://localhost:8080/",
          "height": 52
        },
        "outputId": "37c7343b-7047-4c76-96c4-be3de1385d69"
      },
      "source": [
        "# 16-5\n",
        "#s = \"\"  \n",
        "while s != \"喵喵\":  #當變數s不等於字串喵喵時，持續執行迴圈，否則跳出迴圈\n",
        "    if s != \"\":   #如果變數不等於空字串\n",
        "        print(\" 不對喔!\")  #則列印出字串不對喔!\n",
        "    s = input(\" 請輸入通關密語:\") \n",
        "    #指定輸入的字串給變數s\n",
        "    if s == \"out\":  #如果輸入的字串等於out\n",
        "        break  #則提早跳出迴圈\n",
        "else:  #否則\n",
        "    print(\" 恭喜你過關了 \") #列印出字串恭喜你過關了\n",
        "print(\" 再見!\") \n",
        "#滿足輸入的字串等於喵喵，而跳出迴圈後，列印出字串再見"
      ],
      "execution_count": 11,
      "outputs": [
        {
          "output_type": "stream",
          "text": [
            " 恭喜你過關了 \n",
            " 再見!\n"
          ],
          "name": "stdout"
        }
      ]
    }
  ]
}
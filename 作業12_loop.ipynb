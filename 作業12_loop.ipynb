{
  "nbformat": 4,
  "nbformat_minor": 0,
  "metadata": {
    "colab": {
      "name": "作業12-loop.ipynb",
      "provenance": [],
      "include_colab_link": true
    },
    "kernelspec": {
      "name": "python3",
      "display_name": "Python 3"
    }
  },
  "cells": [
    {
      "cell_type": "markdown",
      "metadata": {
        "id": "view-in-github",
        "colab_type": "text"
      },
      "source": [
        "<a href=\"https://colab.research.google.com/github/iE019/CS4high_4080E019/blob/master/%E4%BD%9C%E6%A5%AD12_loop.ipynb\" target=\"_parent\"><img src=\"https://colab.research.google.com/assets/colab-badge.svg\" alt=\"Open In Colab\"/></a>"
      ]
    },
    {
      "cell_type": "code",
      "metadata": {
        "id": "AVxfGqGBOJQa",
        "colab_type": "code",
        "colab": {
          "base_uri": "https://localhost:8080/",
          "height": 51
        },
        "outputId": "8cfc4028-2152-4174-8d32-51b3074ffa52"
      },
      "source": [
        "for name in ['Christopher', 'Susan']:\n",
        "\tprint(name)\n",
        "#利用for迴圈先列印出Christopher這個字串，\n",
        "#再列印出Susan這個字串\n"
      ],
      "execution_count": 1,
      "outputs": [
        {
          "output_type": "stream",
          "text": [
            "Christopher\n",
            "Susan\n"
          ],
          "name": "stdout"
        }
      ]
    },
    {
      "cell_type": "code",
      "metadata": {
        "id": "gW2NITx3OS-H",
        "colab_type": "code",
        "colab": {
          "base_uri": "https://localhost:8080/",
          "height": 51
        },
        "outputId": "8578b7de-e6f2-4ae1-cc7e-257bbce54c21"
      },
      "source": [
        "for index in range(0, 2):\n",
        "\tprint(index)\n",
        "#利用for迴圈列印出起始值為0，目標值列印到第二個數字\n"
      ],
      "execution_count": 2,
      "outputs": [
        {
          "output_type": "stream",
          "text": [
            "0\n",
            "1\n"
          ],
          "name": "stdout"
        }
      ]
    },
    {
      "cell_type": "code",
      "metadata": {
        "id": "qw6NIU-XOX6j",
        "colab_type": "code",
        "colab": {
          "base_uri": "https://localhost:8080/",
          "height": 51
        },
        "outputId": "1840379b-bd5e-4bfc-b35e-e91d69350310"
      },
      "source": [
        "names = ['Christopher', 'Susan']\n",
        "index = 0\n",
        "while index < len(names):\n",
        "\tprint(names[index])\n",
        "\t# Change the condition!!\n",
        "\tindex = index + 1\n",
        "#當索引小於2時，執行列印第一個字串，再列印下一個字串，直到條件不成立，就跳出while迴圈\n"
      ],
      "execution_count": 4,
      "outputs": [
        {
          "output_type": "stream",
          "text": [
            "Christopher\n",
            "Susan\n"
          ],
          "name": "stdout"
        }
      ]
    }
  ]
}
{
  "nbformat": 4,
  "nbformat_minor": 0,
  "metadata": {
    "colab": {
      "name": "Python小測驗.ipynb",
      "provenance": [],
      "include_colab_link": true
    },
    "kernelspec": {
      "name": "python3",
      "display_name": "Python 3"
    }
  },
  "cells": [
    {
      "cell_type": "markdown",
      "metadata": {
        "id": "view-in-github",
        "colab_type": "text"
      },
      "source": [
        "<a href=\"https://colab.research.google.com/github/iE019/CS4high_4080E019/blob/master/Python%E5%B0%8F%E6%B8%AC%E9%A9%97.ipynb\" target=\"_parent\"><img src=\"https://colab.research.google.com/assets/colab-badge.svg\" alt=\"Open In Colab\"/></a>"
      ]
    },
    {
      "cell_type": "code",
      "metadata": {
        "id": "d-vbVbM-ziXI",
        "colab_type": "code",
        "colab": {
          "base_uri": "https://localhost:8080/",
          "height": 35
        },
        "outputId": "9fcb70c9-246e-4769-8eea-ecc39e70da59"
      },
      "source": [
        "# 使用for 迴圈(loop)計算1+2+3+.....100\n",
        "\n",
        "sum=0 #指定整數0給變數sum\n",
        "\n",
        "for x in range(1,101):  #使用迴圈讓變數x的值從整數1開始跑到整數100為止\n",
        "  sum +=x  #指定sum+x的結果給sum\n",
        "print(sum) #列印出迴圈跑完後的整數的結果"
      ],
      "execution_count": 20,
      "outputs": [
        {
          "output_type": "stream",
          "text": [
            "5050\n"
          ],
          "name": "stdout"
        }
      ]
    },
    {
      "cell_type": "code",
      "metadata": {
        "id": "EzkY_Vnezzbp",
        "colab_type": "code",
        "colab": {
          "base_uri": "https://localhost:8080/",
          "height": 35
        },
        "outputId": "3083e413-3d7f-4936-d0b8-fc9ad16ce925"
      },
      "source": [
        "# 使用for 迴圈(loop)計算1+3+5+7.....+99\n",
        "\n",
        "sum=0  #指定整數0給變數sum\n",
        "\n",
        "for x in range(1,101,2):  #使用迴圈讓變數x的值從整數1開始跑到整數100為止，其中間隔值為2\n",
        "  sum +=x   #指定sum+x的結果給sum\n",
        "print(sum)  #列印出迴圈跑完後的整數的結果"
      ],
      "execution_count": 18,
      "outputs": [
        {
          "output_type": "stream",
          "text": [
            "2500\n"
          ],
          "name": "stdout"
        }
      ]
    },
    {
      "cell_type": "code",
      "metadata": {
        "id": "3AJECJzmzzzv",
        "colab_type": "code",
        "colab": {
          "base_uri": "https://localhost:8080/",
          "height": 35
        },
        "outputId": "7a465d9c-51eb-41b2-9956-60bdcf5ec4ee"
      },
      "source": [
        "# 使用for 迴圈(loop)計算1*3*5*7.....*99\n",
        "\n",
        "total=1 #指定整數1給變數total\n",
        "\n",
        "for x in range(1,101,2): #使用迴圈讓變數x的值從整數1開始跑到整數100為止，其中間隔值為2\n",
        "  total *=x #指定total*x的結果給total\n",
        "print(total)  #列印出迴圈跑完後的整數的結果"
      ],
      "execution_count": 17,
      "outputs": [
        {
          "output_type": "stream",
          "text": [
            "2725392139750729502980713245400918633290796330545803413734328823443106201171875\n"
          ],
          "name": "stdout"
        }
      ]
    },
    {
      "cell_type": "code",
      "metadata": {
        "id": "sCOok-qLz0Np",
        "colab_type": "code",
        "colab": {
          "base_uri": "https://localhost:8080/",
          "height": 35
        },
        "outputId": "0d8ac40e-df3b-431c-f827-f5eca17e4d84"
      },
      "source": [
        "### 使用while 迴圈(loop)計算1+2+3+.....100\n",
        "\n",
        "sum = 0 #指定整數0給變數sum\n",
        "x=1 #指定整數1給變數x\n",
        "\n",
        "while x < 101: #當變數X的值小於101時，持續執行迴圈，否則跳出迴圈  \n",
        "  sum +=x #指定sum+x的結果給變數sum\n",
        "  x += 1 #指定x+1的結果給變數x\n",
        "print(sum) #列印出迴圈跑完後的整數的結果"
      ],
      "execution_count": 13,
      "outputs": [
        {
          "output_type": "stream",
          "text": [
            "5050\n"
          ],
          "name": "stdout"
        }
      ]
    },
    {
      "cell_type": "code",
      "metadata": {
        "id": "H_oK2crS1DTz",
        "colab_type": "code",
        "colab": {
          "base_uri": "https://localhost:8080/",
          "height": 35
        },
        "outputId": "6ad81d67-2e61-48a3-de03-eea1d36cad2a"
      },
      "source": [
        "### 使用while 迴圈(loop)計算1+3+5+7.....+99\n",
        "\n",
        "sum = 0  #指定整數0給變數sum\n",
        "x=1 #指定整數1給變數x\n",
        "\n",
        "while x < 101: #當變數X的值小於101時，持續執行迴圈，否則跳出迴圈  \n",
        "  sum +=x  #指定sum+x的結果給變數sum\n",
        "  x +=2 #指定x+2的結果給變數x\n",
        "print(sum) #列印出迴圈跑完後的整數的結果"
      ],
      "execution_count": 15,
      "outputs": [
        {
          "output_type": "stream",
          "text": [
            "2500\n"
          ],
          "name": "stdout"
        }
      ]
    },
    {
      "cell_type": "code",
      "metadata": {
        "id": "_geekHPj1Drg",
        "colab_type": "code",
        "colab": {
          "base_uri": "https://localhost:8080/",
          "height": 35
        },
        "outputId": "73924aed-a724-45de-eb0f-8adafecb64db"
      },
      "source": [
        "### 使用while 迴圈(loop)計算1*3*5*7.....*99\n",
        "\n",
        "total = 1  #指定整數0給變數total\n",
        "x=1  #指定整數1給變數x\n",
        "\n",
        "while x < 101:  #當變數X的值小於101時，持續執行迴圈，否則跳出迴圈  \n",
        "  total *=x #指定total*x的結果給變數total\n",
        "  x +=2  #指定x+2的結果給變數x\n",
        "print(total)  #列印出迴圈跑完後的整數的結果"
      ],
      "execution_count": 16,
      "outputs": [
        {
          "output_type": "stream",
          "text": [
            "2725392139750729502980713245400918633290796330545803413734328823443106201171875\n"
          ],
          "name": "stdout"
        }
      ]
    }
  ]
}
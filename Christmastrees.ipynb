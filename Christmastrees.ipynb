{
  "nbformat": 4,
  "nbformat_minor": 0,
  "metadata": {
    "colab": {
      "name": "Untitled1.ipynb",
      "version": "0.3.2",
      "provenance": [],
      "include_colab_link": true
    },
    "kernelspec": {
      "name": "python3",
      "display_name": "Python 3"
    }
  },
  "cells": [
    {
      "cell_type": "markdown",
      "metadata": {
        "id": "view-in-github",
        "colab_type": "text"
      },
      "source": [
        "<a href=\"https://colab.research.google.com/github/iE019/CS4high_4080E019/blob/master/Christmastrees.ipynb\" target=\"_parent\"><img src=\"https://colab.research.google.com/assets/colab-badge.svg\" alt=\"Open In Colab\"/></a>"
      ]
    },
    {
      "cell_type": "code",
      "metadata": {
        "id": "WdXD1H81uLQo",
        "colab_type": "code",
        "colab": {
          "base_uri": "https://localhost:8080/",
          "height": 139
        },
        "outputId": "d1547be7-2de9-44c9-dee3-f0f815d5c2c3"
      },
      "source": [
        "print(\"         *       \")\n",
        "print(\"        ***       \")\n",
        "print(\"       ******       \")\n",
        "print(\"      *********       \")\n",
        "print(\"         **       \")\n",
        "print(\"         **      \")\n",
        "print(\"         **       \")"
      ],
      "execution_count": 2,
      "outputs": [
        {
          "output_type": "stream",
          "text": [
            "         *       \n",
            "        ***       \n",
            "       ******       \n",
            "      *********       \n",
            "         **       \n",
            "         **      \n",
            "         **       \n"
          ],
          "name": "stdout"
        }
      ]
    }
  ]
}
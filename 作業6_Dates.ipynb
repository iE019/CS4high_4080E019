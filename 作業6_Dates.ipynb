{
  "nbformat": 4,
  "nbformat_minor": 0,
  "metadata": {
    "colab": {
      "name": "作業6-Dates.ipynb",
      "provenance": [],
      "include_colab_link": true
    },
    "kernelspec": {
      "name": "python3",
      "display_name": "Python 3"
    }
  },
  "cells": [
    {
      "cell_type": "markdown",
      "metadata": {
        "id": "view-in-github",
        "colab_type": "text"
      },
      "source": [
        "<a href=\"https://colab.research.google.com/github/iE019/CS4high_4080E019/blob/master/%E4%BD%9C%E6%A5%AD6_Dates.ipynb\" target=\"_parent\"><img src=\"https://colab.research.google.com/assets/colab-badge.svg\" alt=\"Open In Colab\"/></a>"
      ]
    },
    {
      "cell_type": "code",
      "metadata": {
        "id": "mkhu98GHRwpk",
        "colab_type": "code",
        "colab": {
          "base_uri": "https://localhost:8080/",
          "height": 34
        },
        "outputId": "c3b5a143-b5ac-4a4a-a250-e652eebec532"
      },
      "source": [
        "# To get current date and time獲取當前日期和時間 \n",
        "# we need to use the datetime library我們需要使用datetime函式庫\n",
        "from datetime import datetime\n",
        "current_date = datetime.now()\n",
        "# the now function returns a datetime object\n",
        "# now函數返回一個datetime對象\n",
        "print('Today is: ' + str(current_date))\n",
        "#列印出當前的日期和時間\n"
      ],
      "execution_count": 2,
      "outputs": [
        {
          "output_type": "stream",
          "text": [
            "Today is: 2019-10-22 07:08:55.092501\n"
          ],
          "name": "stdout"
        }
      ]
    },
    {
      "cell_type": "code",
      "metadata": {
        "id": "LV81AxO3ScTa",
        "colab_type": "code",
        "colab": {
          "base_uri": "https://localhost:8080/",
          "height": 51
        },
        "outputId": "52098aea-b351-4968-8a8a-7dbac29e1a29"
      },
      "source": [
        "from datetime import datetime, timedelta\n",
        "#匯入datetime和timedelta的函式庫\n",
        "today = datetime.now() #獲取當前日期和時間 \n",
        "print('Today is: ' + str(today))#列印字串Today is:連接當前的日期和時間\n",
        "# timedelta is used to define a period of time\n",
        "#timedelta用於定義一段時間\n",
        "one_day = timedelta(days=1) #指定變數one_day為1天\n",
        "yesterday = today - one_day #指定變數Yesterday為今天減1天\n",
        "print('Yesterday was: ' + str(yesterday))\n",
        "#列印字串Yesterday was:連接昨天的日期和時間\n"
      ],
      "execution_count": 1,
      "outputs": [
        {
          "output_type": "stream",
          "text": [
            "Today is: 2019-10-22 07:08:48.810332\n",
            "Yesterday was: 2019-10-21 07:08:48.810332\n"
          ],
          "name": "stdout"
        }
      ]
    },
    {
      "cell_type": "code",
      "metadata": {
        "id": "uCkDy7IVStts",
        "colab_type": "code",
        "colab": {
          "base_uri": "https://localhost:8080/",
          "height": 68
        },
        "outputId": "c9efcf33-72f5-4111-f50d-5b930124bf58"
      },
      "source": [
        "from datetime import datetime #匯入datetime的函式庫\n",
        "current_date = datetime.now() \n",
        "#獲取當前日期和時間 print('Day: ' + str(current_date.day)) \n",
        "print('Day: ' + str(current_date.day)) \n",
        "#列印出字串Day連接當前的日\n",
        "print('Month: ' + str(current_date.month))\n",
        "#列印出字串Month連接當前的月\n",
        "print('Year: ' + str(current_date.year))\n",
        "#列印字串Year連接當前的年\n"
      ],
      "execution_count": 4,
      "outputs": [
        {
          "output_type": "stream",
          "text": [
            "Day: 22\n",
            "Month: 10\n",
            "Year: 2019\n"
          ],
          "name": "stdout"
        }
      ]
    },
    {
      "cell_type": "code",
      "metadata": {
        "id": "H1MGb-U2TA1K",
        "colab_type": "code",
        "colab": {
          "base_uri": "https://localhost:8080/",
          "height": 51
        },
        "outputId": "6e42f404-5c5c-4782-d6b7-88153e7f85b7"
      },
      "source": [
        "from datetime import datetime #匯入datetime的函式庫\n",
        "birthday = input('When is your birthday (dd/mm/yyyy)? ')\n",
        "birthday_date = datetime.strptime(birthday, '%d/%m/%Y')\n",
        "#指定變數birthday_date為字串日/月/年轉換成年-月-日\n",
        "print ('Birthday: ' + str(birthday_date))\n",
        "#列印字串Birthday:連接你的生日\n",
        "\n"
      ],
      "execution_count": 7,
      "outputs": [
        {
          "output_type": "stream",
          "text": [
            "When is your birthday (dd/mm/yyyy)? 22/10/2000\n",
            "Birthday: 2000-10-22 00:00:00\n"
          ],
          "name": "stdout"
        }
      ]
    },
    {
      "cell_type": "code",
      "metadata": {
        "id": "gl6p471tTpQY",
        "colab_type": "code",
        "colab": {
          "base_uri": "https://localhost:8080/",
          "height": 68
        },
        "outputId": "fa6813b5-e8bc-480e-8329-1bb664af2eed"
      },
      "source": [
        "from datetime import datetime, timedelta\n",
        "#匯入datetime和timedelta的函式庫\n",
        "birthday = input('When is your birthday (dd/mm/yyyy)? ')#輸入你的生日\n",
        "birthday_date = datetime.strptime(birthday, '%d/%m/%Y')#使字串日/月/年轉換成年-月-日\n",
        "print ('Birthday: ' + str(birthday_date))#列印出字串Birthday:連接你的生日\n",
        "one_day = timedelta(days=1) #指定變數one_day為1天\n",
        "birthday_eve = birthday_date - one_day\n",
        "#指定變數birthday_eve為你的生日減1天\n",
        "print('Day before birthday: ' + str(birthday_eve))\n",
        "#列印出字串Day before birthday:連接你的生日的前一天\n"
      ],
      "execution_count": 8,
      "outputs": [
        {
          "output_type": "stream",
          "text": [
            "When is your birthday (dd/mm/yyyy)? 22/10/2000\n",
            "Birthday: 2000-10-22 00:00:00\n",
            "Day before birthday: 2000-10-21 00:00:00\n"
          ],
          "name": "stdout"
        }
      ]
    }
  ]
}
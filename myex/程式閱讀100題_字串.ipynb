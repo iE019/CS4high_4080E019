{
  "nbformat": 4,
  "nbformat_minor": 0,
  "metadata": {
    "colab": {
      "name": "程式閱讀100題-字串.ipynb",
      "provenance": []
    },
    "kernelspec": {
      "name": "python3",
      "display_name": "Python 3"
    }
  },
  "cells": [
    {
      "cell_type": "code",
      "metadata": {
        "id": "eaGyt_yBJX8u",
        "colab_type": "code",
        "outputId": "14409b41-492e-425c-d4e2-0c2ebd8d107e",
        "colab": {
          "base_uri": "https://localhost:8080/",
          "height": 35
        }
      },
      "source": [
        "print(\"3*2*(17-2)\")\n",
        "#列印出字串"
      ],
      "execution_count": 34,
      "outputs": [
        {
          "output_type": "stream",
          "text": [
            "3*2*(17-2)\n"
          ],
          "name": "stdout"
        }
      ]
    },
    {
      "cell_type": "code",
      "metadata": {
        "id": "XDimVoL4KxkW",
        "colab_type": "code",
        "outputId": "c831dddc-0b24-4c12-a221-4d38d2172fee",
        "colab": {
          "base_uri": "https://localhost:8080/",
          "height": 35
        }
      },
      "source": [
        "print(3*2*(17-2))\n",
        "#列印出計算後的結果"
      ],
      "execution_count": 36,
      "outputs": [
        {
          "output_type": "stream",
          "text": [
            "90\n"
          ],
          "name": "stdout"
        }
      ]
    },
    {
      "cell_type": "code",
      "metadata": {
        "id": "oI1cdX8gK-YO",
        "colab_type": "code",
        "outputId": "4b36db0e-561e-4cb2-b6d8-61ffdbe7222b",
        "colab": {
          "base_uri": "https://localhost:8080/",
          "height": 35
        }
      },
      "source": [
        "print(\"abc\"\"+\"\"def\")\n",
        "#列印出3個無間隔的字串"
      ],
      "execution_count": 39,
      "outputs": [
        {
          "output_type": "stream",
          "text": [
            "abc+def\n"
          ],
          "name": "stdout"
        }
      ]
    },
    {
      "cell_type": "code",
      "metadata": {
        "id": "JGONQD5PLbFg",
        "colab_type": "code",
        "outputId": "be59be4e-ec12-4171-9caa-f32cd0583812",
        "colab": {
          "base_uri": "https://localhost:8080/",
          "height": 35
        }
      },
      "source": [
        "print(\"abc\"+\"def\")\n",
        "#列印出字串abc連接def"
      ],
      "execution_count": 38,
      "outputs": [
        {
          "output_type": "stream",
          "text": [
            "abcdef\n"
          ],
          "name": "stdout"
        }
      ]
    },
    {
      "cell_type": "code",
      "metadata": {
        "id": "eLBq5QlgLith",
        "colab_type": "code",
        "outputId": "a0a48169-71eb-4bac-8dee-2e7f4dbe3961",
        "colab": {
          "base_uri": "https://localhost:8080/",
          "height": 35
        }
      },
      "source": [
        "word = \"arttarataaa\"\n",
        "print(word.replace(\"a\", \"z\",3))\n",
        "#變數word的字串中的前3個a被z取代，其餘保持不變"
      ],
      "execution_count": 40,
      "outputs": [
        {
          "output_type": "stream",
          "text": [
            "zrttzrztaaa\n"
          ],
          "name": "stdout"
        }
      ]
    },
    {
      "cell_type": "code",
      "metadata": {
        "id": "nw3mFvb3Llw2",
        "colab_type": "code",
        "outputId": "bcb3a90e-eea7-43f7-bffa-05e1aa3152be",
        "colab": {
          "base_uri": "https://localhost:8080/",
          "height": 35
        }
      },
      "source": [
        "word = \"arttarataaa\" #指定字串arttarataaa給變數word\n",
        "print(word.replace(\"a\", \"z\"))\n",
        "#變數word的字串中的所有a被z取代"
      ],
      "execution_count": 42,
      "outputs": [
        {
          "output_type": "stream",
          "text": [
            "zrttzrztzzz\n"
          ],
          "name": "stdout"
        }
      ]
    },
    {
      "cell_type": "code",
      "metadata": {
        "id": "_We383EyL5Le",
        "colab_type": "code",
        "outputId": "ac62023a-2862-4437-fa80-c26c80822e4f",
        "colab": {
          "base_uri": "https://localhost:8080/",
          "height": 87
        }
      },
      "source": [
        "sentence = 'To Be or NOT to Be: that is the question: ' \n",
        "#指定字串To Be or NOT to Be: that is the question:變數sentence\n",
        "print(sentence.upper()) #把變數sentence的字串中的所有字元轉換成大寫\n",
        "print(sentence.lower()) #把變數sentence的字串中的所有字元轉換成小寫\n",
        "print(sentence.capitalize()) #把變數sentence的字串中的首字轉換成大寫，其餘轉換成小寫\n",
        "print(sentence.count('o')) #計算變數sentence的字串中的字元o出現過的次數"
      ],
      "execution_count": 43,
      "outputs": [
        {
          "output_type": "stream",
          "text": [
            "TO BE OR NOT TO BE: THAT IS THE QUESTION: \n",
            "to be or not to be: that is the question: \n",
            "To be or not to be: that is the question: \n",
            "4\n"
          ],
          "name": "stdout"
        }
      ]
    },
    {
      "cell_type": "code",
      "metadata": {
        "id": "LOWZPkM_XpIa",
        "colab_type": "code",
        "outputId": "58433720-8917-4c30-b354-f473fb1758ff",
        "colab": {
          "base_uri": "https://localhost:8080/",
          "height": 34
        }
      },
      "source": [
        "x = \"Hello\" \n",
        "x[0] #索引是從0開始"
      ],
      "execution_count": 0,
      "outputs": [
        {
          "output_type": "execute_result",
          "data": {
            "text/plain": [
              "'H'"
            ]
          },
          "metadata": {
            "tags": []
          },
          "execution_count": 13
        }
      ]
    },
    {
      "cell_type": "code",
      "metadata": {
        "id": "fomeGYCsgmFT",
        "colab_type": "code",
        "outputId": "97c6632c-7baf-423b-ddfc-a1ea08247d4e",
        "colab": {
          "base_uri": "https://localhost:8080/",
          "height": 181
        }
      },
      "source": [
        "x = \"Hello\"\n",
        "x[5] #顯示錯誤，因為沒有第5個字元\n"
      ],
      "execution_count": 0,
      "outputs": [
        {
          "output_type": "error",
          "ename": "IndexError",
          "evalue": "ignored",
          "traceback": [
            "\u001b[0;31m---------------------------------------------------------------------------\u001b[0m",
            "\u001b[0;31mIndexError\u001b[0m                                Traceback (most recent call last)",
            "\u001b[0;32m<ipython-input-14-10cd769aa590>\u001b[0m in \u001b[0;36m<module>\u001b[0;34m()\u001b[0m\n\u001b[1;32m      1\u001b[0m \u001b[0mx\u001b[0m \u001b[0;34m=\u001b[0m \u001b[0;34m\"Hello\"\u001b[0m\u001b[0;34m\u001b[0m\u001b[0;34m\u001b[0m\u001b[0m\n\u001b[0;32m----> 2\u001b[0;31m \u001b[0mx\u001b[0m\u001b[0;34m[\u001b[0m\u001b[0;36m5\u001b[0m\u001b[0;34m]\u001b[0m \u001b[0;31m#顯示錯誤，因為沒有第5個字元\u001b[0m\u001b[0;34m\u001b[0m\u001b[0;34m\u001b[0m\u001b[0m\n\u001b[0m",
            "\u001b[0;31mIndexError\u001b[0m: string index out of range"
          ]
        }
      ]
    },
    {
      "cell_type": "code",
      "metadata": {
        "id": "U2101713gmfv",
        "colab_type": "code",
        "outputId": "bb2e0da0-293d-4e24-ed3d-9ac469e0e684",
        "colab": {
          "base_uri": "https://localhost:8080/",
          "height": 35
        }
      },
      "source": [
        "x = \"Hello\"\n",
        "x[-1] \n",
        "#從後端開始為索引-1"
      ],
      "execution_count": 47,
      "outputs": [
        {
          "output_type": "execute_result",
          "data": {
            "text/plain": [
              "'o'"
            ]
          },
          "metadata": {
            "tags": []
          },
          "execution_count": 47
        }
      ]
    },
    {
      "cell_type": "code",
      "metadata": {
        "id": "vWbB4xJXXpli",
        "colab_type": "code",
        "outputId": "84bcaad3-697e-4f1e-d101-b8e3dc08d220",
        "colab": {
          "base_uri": "https://localhost:8080/",
          "height": 35
        }
      },
      "source": [
        "x = \"Hello\"\n",
        "x[1:] #取得索引1到0(不包含索引0，則包含索引-1)\n"
      ],
      "execution_count": 46,
      "outputs": [
        {
          "output_type": "execute_result",
          "data": {
            "text/plain": [
              "'ello'"
            ]
          },
          "metadata": {
            "tags": []
          },
          "execution_count": 46
        }
      ]
    },
    {
      "cell_type": "code",
      "metadata": {
        "id": "WVIT-U0Sc53x",
        "colab_type": "code",
        "outputId": "752dd0dc-dbb5-452d-a907-9f0147186bea",
        "colab": {
          "base_uri": "https://localhost:8080/",
          "height": 35
        }
      },
      "source": [
        "x = \"Hello\"\n",
        "x[1:-1] #取得索引1到-1(不包含索引-1)"
      ],
      "execution_count": 48,
      "outputs": [
        {
          "output_type": "execute_result",
          "data": {
            "text/plain": [
              "'ell'"
            ]
          },
          "metadata": {
            "tags": []
          },
          "execution_count": 48
        }
      ]
    },
    {
      "cell_type": "code",
      "metadata": {
        "id": "jLDdgaBkhmYu",
        "colab_type": "code",
        "outputId": "a28409da-e4cc-44d0-fcf2-b36ebbd7e679",
        "colab": {
          "base_uri": "https://localhost:8080/",
          "height": 35
        }
      },
      "source": [
        "x = \"Goodbye\\n\"\n",
        "x = x[:-1] #取得索引0到-1(不包含索引-1)，\\n是作為1個字元\n",
        "x"
      ],
      "execution_count": 49,
      "outputs": [
        {
          "output_type": "execute_result",
          "data": {
            "text/plain": [
              "'Goodbye'"
            ]
          },
          "metadata": {
            "tags": []
          },
          "execution_count": 49
        }
      ]
    },
    {
      "cell_type": "code",
      "metadata": {
        "id": "3DpoaMoWiFFq",
        "colab_type": "code",
        "outputId": "06e43ef3-13fb-4780-f5a6-4a5cf9fbc3f2",
        "colab": {
          "base_uri": "https://localhost:8080/",
          "height": 35
        }
      },
      "source": [
        "len(\"Goodbye\") #列印出字串中的字元總數量"
      ],
      "execution_count": 60,
      "outputs": [
        {
          "output_type": "execute_result",
          "data": {
            "text/plain": [
              "7"
            ]
          },
          "metadata": {
            "tags": []
          },
          "execution_count": 60
        }
      ]
    },
    {
      "cell_type": "code",
      "metadata": {
        "id": "d85ucyRahmId",
        "colab_type": "code",
        "outputId": "fc8fc5ba-ac96-4d02-ab74-851e3b0eea16",
        "colab": {
          "base_uri": "https://localhost:8080/",
          "height": 34
        }
      },
      "source": [
        "x = \"Hello \" + \"Mydeargreatteacher\" #連接字串\n",
        "x"
      ],
      "execution_count": 0,
      "outputs": [
        {
          "output_type": "execute_result",
          "data": {
            "text/plain": [
              "'Hello Mydeargreatteacher'"
            ]
          },
          "metadata": {
            "tags": []
          },
          "execution_count": 24
        }
      ]
    },
    {
      "cell_type": "code",
      "metadata": {
        "id": "PC_qrewJhl24",
        "colab_type": "code",
        "outputId": "53dfa415-f390-42f9-9f71-f949bf37da26",
        "colab": {
          "base_uri": "https://localhost:8080/",
          "height": 34
        }
      },
      "source": [
        "8 * \"x\" #重複列印出字串"
      ],
      "execution_count": 0,
      "outputs": [
        {
          "output_type": "execute_result",
          "data": {
            "text/plain": [
              "'xxxxxxxx'"
            ]
          },
          "metadata": {
            "tags": []
          },
          "execution_count": 23
        }
      ]
    },
    {
      "cell_type": "code",
      "metadata": {
        "id": "fpXufbEDiY2c",
        "colab_type": "code",
        "outputId": "30018105-79b8-4cd8-c51d-1864fd90ff15",
        "colab": {
          "base_uri": "https://localhost:8080/",
          "height": 35
        }
      },
      "source": [
        "unicode_a ='\\N{LATIN SMALL LETTER A}'\n",
        "unicode_a"
      ],
      "execution_count": 1,
      "outputs": [
        {
          "output_type": "execute_result",
          "data": {
            "text/plain": [
              "'a'"
            ]
          },
          "metadata": {
            "tags": []
          },
          "execution_count": 1
        }
      ]
    },
    {
      "cell_type": "code",
      "metadata": {
        "id": "EEkmCqzliZM0",
        "colab_type": "code",
        "colab": {
          "base_uri": "https://localhost:8080/",
          "height": 35
        },
        "outputId": "d75e2760-e60c-479f-d696-78f7a344542e"
      },
      "source": [
        "unicode_a_with_acute = '\\N{LATIN SMALL LETTER A WITH ACUTE}'      \n",
        "unicode_a_with_acute"
      ],
      "execution_count": 2,
      "outputs": [
        {
          "output_type": "execute_result",
          "data": {
            "text/plain": [
              "'á'"
            ]
          },
          "metadata": {
            "tags": []
          },
          "execution_count": 2
        }
      ]
    },
    {
      "cell_type": "code",
      "metadata": {
        "id": "H-gcw_4_JSZA",
        "colab_type": "code",
        "colab": {
          "base_uri": "https://localhost:8080/",
          "height": 35
        },
        "outputId": "2b984733-1718-4a80-c705-5a212bd974e1"
      },
      "source": [
        "\"\\u00E1\""
      ],
      "execution_count": 3,
      "outputs": [
        {
          "output_type": "execute_result",
          "data": {
            "text/plain": [
              "'á'"
            ]
          },
          "metadata": {
            "tags": []
          },
          "execution_count": 3
        }
      ]
    },
    {
      "cell_type": "code",
      "metadata": {
        "id": "w9T0GJGIJaWu",
        "colab_type": "code",
        "colab": {
          "base_uri": "https://localhost:8080/",
          "height": 35
        },
        "outputId": "93bc6994-23d5-482c-f222-7b4f0f5440f6"
      },
      "source": [
        "# 使用join()連接字串\n",
        "\"\".join([\"Separated\", \"by\", \"nothing\"])\n",
        "#使用空字串來連接所有的字串"
      ],
      "execution_count": 51,
      "outputs": [
        {
          "output_type": "execute_result",
          "data": {
            "text/plain": [
              "'Separatedbynothing'"
            ]
          },
          "metadata": {
            "tags": []
          },
          "execution_count": 51
        }
      ]
    },
    {
      "cell_type": "code",
      "metadata": {
        "id": "Eq99iU01JasZ",
        "colab_type": "code",
        "colab": {
          "base_uri": "https://localhost:8080/",
          "height": 35
        },
        "outputId": "62fd9ce0-bbe0-4861-fdd1-62aba6c9f0d4"
      },
      "source": [
        "# 使用join()連接字串\n",
        "\n",
        "\" \".join([\"join\", \"puts\", \"spaces\", \"between\", \"elements\"])\n",
        "#使用空格來連接所有的字串"
      ],
      "execution_count": 50,
      "outputs": [
        {
          "output_type": "execute_result",
          "data": {
            "text/plain": [
              "'join puts spaces between elements'"
            ]
          },
          "metadata": {
            "tags": []
          },
          "execution_count": 50
        }
      ]
    },
    {
      "cell_type": "code",
      "metadata": {
        "id": "eNgY5WwZJmnM",
        "colab_type": "code",
        "colab": {
          "base_uri": "https://localhost:8080/",
          "height": 35
        },
        "outputId": "2b3eba2f-e6b5-4b9f-e7ba-4a71a1edf0f1"
      },
      "source": [
        "# 使用join()連接字串\n",
        "\n",
        "\"::\".join([\"Separated\", \"with\", \"colons\"])\n",
        "#使用::來連接所有的字串"
      ],
      "execution_count": 52,
      "outputs": [
        {
          "output_type": "execute_result",
          "data": {
            "text/plain": [
              "'Separated::with::colons'"
            ]
          },
          "metadata": {
            "tags": []
          },
          "execution_count": 52
        }
      ]
    },
    {
      "cell_type": "code",
      "metadata": {
        "id": "UgRuqa4HKUVc",
        "colab_type": "code",
        "colab": {
          "base_uri": "https://localhost:8080/",
          "height": 35
        },
        "outputId": "ff535a8e-8d0b-406b-83b2-c169a5a114c9"
      },
      "source": [
        "# 使用split()切割字串\n",
        "x = \"You\\t\\t can have tabs\\t\\n \\t and newlines \\n\\n mixed in\"\n",
        "x.split()\n",
        "#把字串中有特殊字元的部分切掉，分成8個字串"
      ],
      "execution_count": 58,
      "outputs": [
        {
          "output_type": "execute_result",
          "data": {
            "text/plain": [
              "['You', 'can', 'have', 'tabs', 'and', 'newlines', 'mixed', 'in']"
            ]
          },
          "metadata": {
            "tags": []
          },
          "execution_count": 58
        }
      ]
    },
    {
      "cell_type": "code",
      "metadata": {
        "id": "0tQroDonKUuq",
        "colab_type": "code",
        "colab": {
          "base_uri": "https://localhost:8080/",
          "height": 35
        },
        "outputId": "f09f2daa-b6ef-43c2-c357-2d46e3e34a02"
      },
      "source": [
        "# 使用split()切割字串\n",
        "x = \"Mississippi\"\n",
        "x.split(\"ss\")\n",
        "#把字串中有ss的部分切掉，分成3個字串"
      ],
      "execution_count": 57,
      "outputs": [
        {
          "output_type": "execute_result",
          "data": {
            "text/plain": [
              "['Mi', 'i', 'ippi']"
            ]
          },
          "metadata": {
            "tags": []
          },
          "execution_count": 57
        }
      ]
    },
    {
      "cell_type": "code",
      "metadata": {
        "id": "0yxCxWfeKVJL",
        "colab_type": "code",
        "colab": {
          "base_uri": "https://localhost:8080/",
          "height": 35
        },
        "outputId": "a789a89a-e4cd-4399-ba4e-7ede9667c202"
      },
      "source": [
        "# 使用split()切割字串\n",
        "x = 'a b c d'\n",
        "x.split(' ', 1)\n",
        "#把索引1前1個的空格切掉，分成2個字串"
      ],
      "execution_count": 10,
      "outputs": [
        {
          "output_type": "execute_result",
          "data": {
            "text/plain": [
              "['a', 'b c d']"
            ]
          },
          "metadata": {
            "tags": []
          },
          "execution_count": 10
        }
      ]
    },
    {
      "cell_type": "code",
      "metadata": {
        "id": "7eBQQ7KNKVlM",
        "colab_type": "code",
        "colab": {
          "base_uri": "https://localhost:8080/",
          "height": 35
        },
        "outputId": "b42def07-be1b-42fa-bb97-8e15c7c287e2"
      },
      "source": [
        "# 使用split()切割字串\n",
        "['a', 'b c d']\n",
        "x.split(' ', 2)\n",
        "#把索引2前1個的空格切掉，分成3個字串"
      ],
      "execution_count": 11,
      "outputs": [
        {
          "output_type": "execute_result",
          "data": {
            "text/plain": [
              "['a', 'b', 'c d']"
            ]
          },
          "metadata": {
            "tags": []
          },
          "execution_count": 11
        }
      ]
    },
    {
      "cell_type": "code",
      "metadata": {
        "id": "okoUBZneLPQE",
        "colab_type": "code",
        "colab": {
          "base_uri": "https://localhost:8080/",
          "height": 191
        },
        "outputId": "447489d8-7df9-432b-eb22-ea178aa94377"
      },
      "source": [
        "['a', 'b', 'c d']\n",
        "x.split(' ', 9)\n"
      ],
      "execution_count": 62,
      "outputs": [
        {
          "output_type": "execute_result",
          "data": {
            "text/plain": [
              "['You\\t\\t',\n",
              " 'can',\n",
              " 'have',\n",
              " 'tabs\\t\\n',\n",
              " '\\t',\n",
              " 'and',\n",
              " 'newlines',\n",
              " '\\n\\n',\n",
              " 'mixed',\n",
              " 'in']"
            ]
          },
          "metadata": {
            "tags": []
          },
          "execution_count": 62
        }
      ]
    },
    {
      "cell_type": "code",
      "metadata": {
        "id": "Uu1i7rVQLiws",
        "colab_type": "code",
        "colab": {
          "base_uri": "https://localhost:8080/",
          "height": 35
        },
        "outputId": "6d2096d3-be68-4f72-993d-5d4a9b6e46a5"
      },
      "source": [
        "float('123.456')\n",
        "#把字串轉換成浮點數"
      ],
      "execution_count": 63,
      "outputs": [
        {
          "output_type": "execute_result",
          "data": {
            "text/plain": [
              "123.456"
            ]
          },
          "metadata": {
            "tags": []
          },
          "execution_count": 63
        }
      ]
    },
    {
      "cell_type": "code",
      "metadata": {
        "id": "9_1y_Wa8LjF1",
        "colab_type": "code",
        "colab": {
          "base_uri": "https://localhost:8080/",
          "height": 166
        },
        "outputId": "95735da4-4a67-402c-e653-4b49a46a5a0b"
      },
      "source": [
        "float('xxyy') \n",
        "#字串是無法轉換成浮點數的"
      ],
      "execution_count": 14,
      "outputs": [
        {
          "output_type": "error",
          "ename": "ValueError",
          "evalue": "ignored",
          "traceback": [
            "\u001b[0;31m---------------------------------------------------------------------------\u001b[0m",
            "\u001b[0;31mValueError\u001b[0m                                Traceback (most recent call last)",
            "\u001b[0;32m<ipython-input-14-14b25c5b2052>\u001b[0m in \u001b[0;36m<module>\u001b[0;34m()\u001b[0m\n\u001b[0;32m----> 1\u001b[0;31m \u001b[0mfloat\u001b[0m\u001b[0;34m(\u001b[0m\u001b[0;34m'xxyy'\u001b[0m\u001b[0;34m)\u001b[0m\u001b[0;34m\u001b[0m\u001b[0;34m\u001b[0m\u001b[0m\n\u001b[0m",
            "\u001b[0;31mValueError\u001b[0m: could not convert string to float: 'xxyy'"
          ]
        }
      ]
    },
    {
      "cell_type": "code",
      "metadata": {
        "id": "UONOWMWILjZd",
        "colab_type": "code",
        "colab": {
          "base_uri": "https://localhost:8080/",
          "height": 35
        },
        "outputId": "a93af167-7bf9-4446-c1b2-2cf912780143"
      },
      "source": [
        "int('3333')\n",
        "#把字串轉換成整數"
      ],
      "execution_count": 33,
      "outputs": [
        {
          "output_type": "execute_result",
          "data": {
            "text/plain": [
              "3333"
            ]
          },
          "metadata": {
            "tags": []
          },
          "execution_count": 33
        }
      ]
    },
    {
      "cell_type": "code",
      "metadata": {
        "id": "Ffk2XUxkLj2a",
        "colab_type": "code",
        "colab": {
          "base_uri": "https://localhost:8080/",
          "height": 183
        },
        "outputId": "f8cbbb5a-ca6e-4da1-dc1a-476bdf07aa86"
      },
      "source": [
        "int('123.456') \n",
        "#把浮點數轉換成整數，不能加引號"
      ],
      "execution_count": 32,
      "outputs": [
        {
          "output_type": "error",
          "ename": "ValueError",
          "evalue": "ignored",
          "traceback": [
            "\u001b[0;31m---------------------------------------------------------------------------\u001b[0m",
            "\u001b[0;31mValueError\u001b[0m                                Traceback (most recent call last)",
            "\u001b[0;32m<ipython-input-32-de280ff0345f>\u001b[0m in \u001b[0;36m<module>\u001b[0;34m()\u001b[0m\n\u001b[0;32m----> 1\u001b[0;31m \u001b[0mint\u001b[0m\u001b[0;34m(\u001b[0m\u001b[0;34m'123.456'\u001b[0m\u001b[0;34m)\u001b[0m\u001b[0;34m\u001b[0m\u001b[0;34m\u001b[0m\u001b[0m\n\u001b[0m\u001b[1;32m      2\u001b[0m \u001b[0;31m#把浮點數轉換成整數，不能加引號\u001b[0m\u001b[0;34m\u001b[0m\u001b[0;34m\u001b[0m\u001b[0;34m\u001b[0m\u001b[0m\n",
            "\u001b[0;31mValueError\u001b[0m: invalid literal for int() with base 10: '123.456'"
          ]
        }
      ]
    },
    {
      "cell_type": "code",
      "metadata": {
        "id": "UuDTyvRHMo_s",
        "colab_type": "code",
        "colab": {
          "base_uri": "https://localhost:8080/",
          "height": 35
        },
        "outputId": "b2d53653-40f9-4e47-8c3e-0f2b82a9d20b"
      },
      "source": [
        "int(123.456) \n",
        "#把浮點數轉換成整數"
      ],
      "execution_count": 31,
      "outputs": [
        {
          "output_type": "execute_result",
          "data": {
            "text/plain": [
              "123"
            ]
          },
          "metadata": {
            "tags": []
          },
          "execution_count": 31
        }
      ]
    },
    {
      "cell_type": "code",
      "metadata": {
        "id": "TVSowomOL773",
        "colab_type": "code",
        "colab": {
          "base_uri": "https://localhost:8080/",
          "height": 35
        },
        "outputId": "ff28929d-2988-4d55-c9ba-51f1c2833d8d"
      },
      "source": [
        "int('10000', 8)    \n",
        "#以8進位方式計算，所以，8的4次方=4096"
      ],
      "execution_count": 30,
      "outputs": [
        {
          "output_type": "execute_result",
          "data": {
            "text/plain": [
              "4096"
            ]
          },
          "metadata": {
            "tags": []
          },
          "execution_count": 30
        }
      ]
    },
    {
      "cell_type": "code",
      "metadata": {
        "id": "Vc1_W419L8Ye",
        "colab_type": "code",
        "colab": {
          "base_uri": "https://localhost:8080/",
          "height": 35
        },
        "outputId": "aef94570-6be0-4f00-fe13-edeb7cdc6125"
      },
      "source": [
        "int('101', 2)\n",
        "#以2進位的方式計算，所以，2的0次方+2的2次方=5"
      ],
      "execution_count": 29,
      "outputs": [
        {
          "output_type": "execute_result",
          "data": {
            "text/plain": [
              "5"
            ]
          },
          "metadata": {
            "tags": []
          },
          "execution_count": 29
        }
      ]
    },
    {
      "cell_type": "code",
      "metadata": {
        "id": "Gw4Tm2UGNM_B",
        "colab_type": "code",
        "colab": {
          "base_uri": "https://localhost:8080/",
          "height": 35
        },
        "outputId": "69df597f-eb26-4599-8914-159c43b6c8f6"
      },
      "source": [
        "int('ff', 16)  \n",
        "#以16進位的方式計算，所以，16的0次方*15+16的1次方*15=255"
      ],
      "execution_count": 65,
      "outputs": [
        {
          "output_type": "execute_result",
          "data": {
            "text/plain": [
              "255"
            ]
          },
          "metadata": {
            "tags": []
          },
          "execution_count": 65
        }
      ]
    },
    {
      "cell_type": "code",
      "metadata": {
        "id": "m46rCaoaNNhJ",
        "colab_type": "code",
        "colab": {
          "base_uri": "https://localhost:8080/",
          "height": 166
        },
        "outputId": "fb86cc43-ec92-4d9d-9217-07aa015bde93"
      },
      "source": [
        "int('123456', 6) #以6進位的方式計算，數值中最多到5，不能出現6"
      ],
      "execution_count": 68,
      "outputs": [
        {
          "output_type": "error",
          "ename": "ValueError",
          "evalue": "ignored",
          "traceback": [
            "\u001b[0;31m---------------------------------------------------------------------------\u001b[0m",
            "\u001b[0;31mValueError\u001b[0m                                Traceback (most recent call last)",
            "\u001b[0;32m<ipython-input-68-b1af51039a87>\u001b[0m in \u001b[0;36m<module>\u001b[0;34m()\u001b[0m\n\u001b[0;32m----> 1\u001b[0;31m \u001b[0mint\u001b[0m\u001b[0;34m(\u001b[0m\u001b[0;34m'123456'\u001b[0m\u001b[0;34m,\u001b[0m \u001b[0;36m6\u001b[0m\u001b[0;34m)\u001b[0m \u001b[0;31m#以6進位的方式計算，數值中最多到5，不能出現6\u001b[0m\u001b[0;34m\u001b[0m\u001b[0;34m\u001b[0m\u001b[0m\n\u001b[0m",
            "\u001b[0;31mValueError\u001b[0m: invalid literal for int() with base 6: '123456'"
          ]
        }
      ]
    },
    {
      "cell_type": "code",
      "metadata": {
        "id": "jv4tcZCYMlQH",
        "colab_type": "code",
        "outputId": "1f4199f8-3625-48af-d3cb-5d63310a2e4e",
        "colab": {
          "base_uri": "https://localhost:8080/",
          "height": 51
        }
      },
      "source": [
        "names = ['龍', '聖']\n",
        "index = 0\n",
        "\n",
        "while index < len(names):\n",
        "    name = names[index]\n",
        "    print(name)\n",
        "    index = index + 1"
      ],
      "execution_count": 0,
      "outputs": [
        {
          "output_type": "stream",
          "text": [
            "龍\n",
            "聖\n"
          ],
          "name": "stdout"
        }
      ]
    },
    {
      "cell_type": "code",
      "metadata": {
        "id": "WymgSd0iNI16",
        "colab_type": "code",
        "colab": {}
      },
      "source": [
        "names = ['龍', '聖']\n",
        "index = 0\n",
        "\n",
        "while index > len(names):\n",
        "    name = names[index]\n",
        "    print(name)\n",
        "    index = index + 1"
      ],
      "execution_count": 0,
      "outputs": []
    }
  ]
}
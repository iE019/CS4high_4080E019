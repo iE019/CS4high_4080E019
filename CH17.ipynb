{
  "nbformat": 4,
  "nbformat_minor": 0,
  "metadata": {
    "colab": {
      "name": "CH17.ipynb",
      "provenance": [],
      "include_colab_link": true
    },
    "kernelspec": {
      "name": "python3",
      "display_name": "Python 3"
    }
  },
  "cells": [
    {
      "cell_type": "markdown",
      "metadata": {
        "id": "view-in-github",
        "colab_type": "text"
      },
      "source": [
        "<a href=\"https://colab.research.google.com/github/iE019/CS4high_4080E019/blob/master/CH17.ipynb\" target=\"_parent\"><img src=\"https://colab.research.google.com/assets/colab-badge.svg\" alt=\"Open In Colab\"/></a>"
      ]
    },
    {
      "cell_type": "code",
      "metadata": {
        "id": "0ZpQSfl0j-Wd",
        "colab_type": "code",
        "colab": {
          "base_uri": "https://localhost:8080/",
          "height": 191
        },
        "outputId": "33c0b58c-e0e3-46e2-cfd8-3638f5e7d684"
      },
      "source": [
        "# 17-1不使用迴圈\n",
        "print(\"Hello Python\")\n",
        "print(\"Hello Python\")\n",
        "print(\"Hello Python\")\n",
        "print(\"Hello Python\")\n",
        "print(\"Hello Python\")\n",
        "print(\"Hello Python\")\n",
        "print(\"Hello Python\")\n",
        "print(\"Hello Python\")\n",
        "print(\"Hello Python\")\n",
        "print(\"Hello Python\")"
      ],
      "execution_count": 1,
      "outputs": [
        {
          "output_type": "stream",
          "text": [
            "Hello Python\n",
            "Hello Python\n",
            "Hello Python\n",
            "Hello Python\n",
            "Hello Python\n",
            "Hello Python\n",
            "Hello Python\n",
            "Hello Python\n",
            "Hello Python\n",
            "Hello Python\n"
          ],
          "name": "stdout"
        }
      ]
    },
    {
      "cell_type": "code",
      "metadata": {
        "id": "kdYurnCNkRhS",
        "colab_type": "code",
        "colab": {
          "base_uri": "https://localhost:8080/",
          "height": 191
        },
        "outputId": "4de45eb7-cf49-4853-dc6c-6852232645e8"
      },
      "source": [
        "# 17-1使用for迴圈\n",
        "for i in range(10): #重複跑10次迴圈\n",
        "    print(\"Hello Python\") "
      ],
      "execution_count": 3,
      "outputs": [
        {
          "output_type": "stream",
          "text": [
            "Hello Python\n",
            "Hello Python\n",
            "Hello Python\n",
            "Hello Python\n",
            "Hello Python\n",
            "Hello Python\n",
            "Hello Python\n",
            "Hello Python\n",
            "Hello Python\n",
            "Hello Python\n"
          ],
          "name": "stdout"
        }
      ]
    },
    {
      "cell_type": "code",
      "metadata": {
        "id": "Jy_MR_f_k4X3",
        "colab_type": "code",
        "colab": {
          "base_uri": "https://localhost:8080/",
          "height": 52
        },
        "outputId": "3ce950c4-67e6-4b5f-de75-0a72bae72bce"
      },
      "source": [
        "# 17-3\n",
        "for i in range(10, 1, -1): #讓迴圈以遞減1的方式，從整數10到整數1(不包含1)的跑\n",
        "    print(i, end=\" \") #以輸出1個空格替代換行的方式，列印出整數\n",
        "print() #列印出一行空行，用意是提高程式可讀性\n",
        "for i in range(0, 9, 2):  #讓迴圈以遞增2的方式，從整數0到整數9(不包含)\n",
        "    print(i, end=\" \")  #以輸出1個空格替代換行的方式，列印出整數"
      ],
      "execution_count": 5,
      "outputs": [
        {
          "output_type": "stream",
          "text": [
            "10 9 8 7 6 5 4 3 2 \n",
            "0 2 4 6 8 "
          ],
          "name": "stdout"
        }
      ]
    },
    {
      "cell_type": "code",
      "metadata": {
        "id": "fUFCXhynnNKe",
        "colab_type": "code",
        "colab": {
          "base_uri": "https://localhost:8080/",
          "height": 173
        },
        "outputId": "efc445d4-6405-44d0-bb10-443355a91050"
      },
      "source": [
        "# 17-4\n",
        "for i in range(1, 10): #變數i為乘數的1到9的迴圈\n",
        "    for j in range(1, 10): #變數j為被乘數的1到9的迴圈\n",
        "        print(j, \"x\", i, \"=\", j*i, end=' ')\n",
        "        #列印出被乘數乘乘數的九九乘法表(兩數相乘後的結果後面會加上1個空格，用意是提高可讀性)\n",
        "    print()#當內部的被乘數迴圈跑到9時，就換一橫列繼續跑，直到迴圈結束為止"
      ],
      "execution_count": 9,
      "outputs": [
        {
          "output_type": "stream",
          "text": [
            "1 x 1 = 1 2 x 1 = 2 3 x 1 = 3 4 x 1 = 4 5 x 1 = 5 6 x 1 = 6 7 x 1 = 7 8 x 1 = 8 9 x 1 = 9 \n",
            "1 x 2 = 2 2 x 2 = 4 3 x 2 = 6 4 x 2 = 8 5 x 2 = 10 6 x 2 = 12 7 x 2 = 14 8 x 2 = 16 9 x 2 = 18 \n",
            "1 x 3 = 3 2 x 3 = 6 3 x 3 = 9 4 x 3 = 12 5 x 3 = 15 6 x 3 = 18 7 x 3 = 21 8 x 3 = 24 9 x 3 = 27 \n",
            "1 x 4 = 4 2 x 4 = 8 3 x 4 = 12 4 x 4 = 16 5 x 4 = 20 6 x 4 = 24 7 x 4 = 28 8 x 4 = 32 9 x 4 = 36 \n",
            "1 x 5 = 5 2 x 5 = 10 3 x 5 = 15 4 x 5 = 20 5 x 5 = 25 6 x 5 = 30 7 x 5 = 35 8 x 5 = 40 9 x 5 = 45 \n",
            "1 x 6 = 6 2 x 6 = 12 3 x 6 = 18 4 x 6 = 24 5 x 6 = 30 6 x 6 = 36 7 x 6 = 42 8 x 6 = 48 9 x 6 = 54 \n",
            "1 x 7 = 7 2 x 7 = 14 3 x 7 = 21 4 x 7 = 28 5 x 7 = 35 6 x 7 = 42 7 x 7 = 49 8 x 7 = 56 9 x 7 = 63 \n",
            "1 x 8 = 8 2 x 8 = 16 3 x 8 = 24 4 x 8 = 32 5 x 8 = 40 6 x 8 = 48 7 x 8 = 56 8 x 8 = 64 9 x 8 = 72 \n",
            "1 x 9 = 9 2 x 9 = 18 3 x 9 = 27 4 x 9 = 36 5 x 9 = 45 6 x 9 = 54 7 x 9 = 63 8 x 9 = 72 9 x 9 = 81 \n"
          ],
          "name": "stdout"
        }
      ]
    },
    {
      "cell_type": "code",
      "metadata": {
        "id": "D7qh80ZqpB9E",
        "colab_type": "code",
        "colab": {
          "base_uri": "https://localhost:8080/",
          "height": 35
        },
        "outputId": "a0ea5dd6-79ff-4c7d-ae5e-2635547bac31"
      },
      "source": [
        "# 17-5\n",
        "for i in range(1, 20): #讓變數i的for迴圈從1跑到20\n",
        "    if i == 5: #如果變數i的值等於整數5\n",
        "        continue #忽略列印出整數5，返回到迴圈開頭，繼續跑\n",
        "    print(i, end=\" \") #以輸出1個空格替代換行的方式，列印出變數i所有的值\n",
        "    if i == 10: #如果變數i等於整數10\n",
        "        break #則提早離開迴圈\n",
        "print(\"END\") #離開迴圈後，列印出字串END"
      ],
      "execution_count": 11,
      "outputs": [
        {
          "output_type": "stream",
          "text": [
            "1 2 3 4 6 7 8 9 10 END\n"
          ],
          "name": "stdout"
        }
      ]
    },
    {
      "cell_type": "code",
      "metadata": {
        "id": "ujs7-X-YqqfY",
        "colab_type": "code",
        "colab": {
          "base_uri": "https://localhost:8080/",
          "height": 121
        },
        "outputId": "22429eb6-97de-4701-dcf7-2d6ae220f9e5"
      },
      "source": [
        "# 17-6\n",
        "num = int(input(\"Please specify the range(0~N): \"))\n",
        "#指定輸入的整數給變數num\n",
        "for i in range(2, num+1):  #迴圈從2跑到輸入的值\n",
        "    for j in range(2, i): #迴圈從2跑到變數i-1的值\n",
        "        if(i%j == 0): #如果變數i的值除變數j的值的餘數等於0\n",
        "            break #則提早離開迴圈\n",
        "    else: #否則\n",
        "        print(i) #列印出變數i的值"
      ],
      "execution_count": 18,
      "outputs": [
        {
          "output_type": "stream",
          "text": [
            "Please specify the range(0~N): 12\n",
            "2\n",
            "3\n",
            "5\n",
            "7\n",
            "11\n"
          ],
          "name": "stdout"
        }
      ]
    }
  ]
}
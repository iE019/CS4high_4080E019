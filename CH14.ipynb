{
  "nbformat": 4,
  "nbformat_minor": 0,
  "metadata": {
    "colab": {
      "name": "CH14.ipynb",
      "provenance": [],
      "include_colab_link": true
    },
    "kernelspec": {
      "name": "python3",
      "display_name": "Python 3"
    }
  },
  "cells": [
    {
      "cell_type": "markdown",
      "metadata": {
        "id": "view-in-github",
        "colab_type": "text"
      },
      "source": [
        "<a href=\"https://colab.research.google.com/github/iE019/CS4high_4080E019/blob/master/CH14.ipynb\" target=\"_parent\"><img src=\"https://colab.research.google.com/assets/colab-badge.svg\" alt=\"Open In Colab\"/></a>"
      ]
    },
    {
      "cell_type": "code",
      "metadata": {
        "id": "YswBKwBB6OOc",
        "colab_type": "code",
        "colab": {
          "base_uri": "https://localhost:8080/",
          "height": 52
        },
        "outputId": "f4dbe3b0-e757-4612-f3d2-36418b68b19b"
      },
      "source": [
        "# 14-1-1\n",
        "Num=int(input(\"please pick a number: \")) #指定輸入的整數給變數Num\n",
        "if Num%2==0: #如果變數Num的值除於2，並取餘數等於0\n",
        "    print(\"Even Number\") #則列印出字串Even Number\n",
        "else: #否則\n",
        "    print(\"Odd Number\") #列印出字串Odd Number"
      ],
      "execution_count": 3,
      "outputs": [
        {
          "output_type": "stream",
          "text": [
            "please pick a number: 8\n",
            "Even Number\n"
          ],
          "name": "stdout"
        }
      ]
    },
    {
      "cell_type": "code",
      "metadata": {
        "id": "CPGxhHKk8iWT",
        "colab_type": "code",
        "colab": {
          "base_uri": "https://localhost:8080/",
          "height": 52
        },
        "outputId": "fd3490f1-2565-4353-ad2a-8bbf9c2f2985"
      },
      "source": [
        "# 14-1-2\n",
        "Num=int(input(\"please pick a number: \")) #指定輸入的整數給變數Num\n",
        "if Num%2==0: #如果變數Num的值除於2，並取餘數等於0\n",
        "    print(\"Even Number\") #則列印出字串Even Number\n",
        "else: #否則\n",
        "    print(\"Odd Number\") #列印出字串Odd Number"
      ],
      "execution_count": 4,
      "outputs": [
        {
          "output_type": "stream",
          "text": [
            "please pick a number: 7\n",
            "Odd Number\n"
          ],
          "name": "stdout"
        }
      ]
    },
    {
      "cell_type": "code",
      "metadata": {
        "id": "3jEq4p_V9FHA",
        "colab_type": "code",
        "colab": {
          "base_uri": "https://localhost:8080/",
          "height": 52
        },
        "outputId": "bf170977-5248-4c78-80d3-e5959cf4f8dc"
      },
      "source": [
        "# 14-2-1\n",
        "num = int(input(\"Enter a number: \")) #指定數入的整數給變數num\n",
        "if num > 0:  #如果變數num的值大於0\n",
        "    print(\"num is positive\")  #則列印出字串num is positive\n",
        "elif num < 0: #否則如果變數num的值小於0\n",
        "    print(\"num is negative\")  #則列印出字串num is negative\n",
        "else: #否則\n",
        "    print(\"num is zero\") #列印出字串num is zero"
      ],
      "execution_count": 8,
      "outputs": [
        {
          "output_type": "stream",
          "text": [
            "Enter a number: 5\n",
            "num is positive\n"
          ],
          "name": "stdout"
        }
      ]
    },
    {
      "cell_type": "code",
      "metadata": {
        "id": "2UePOezL9Fle",
        "colab_type": "code",
        "colab": {
          "base_uri": "https://localhost:8080/",
          "height": 52
        },
        "outputId": "db41ae04-4255-4f8e-9a09-d712d5b91a15"
      },
      "source": [
        "# 14-2-2\n",
        "num = int(input(\"Enter a number: \")) #指定數入的整數給變數num\n",
        "if num > 0:  #如果變數num的值大於0\n",
        "    print(\"num is positive\")  #則列印出字串num is positive\n",
        "elif num < 0: #否則如果變數num的值小於0\n",
        "    print(\"num is negative\")  #則列印出字串num is negative\n",
        "else: #否則\n",
        "    print(\"num is zero\") #列印出字串num is zero"
      ],
      "execution_count": 9,
      "outputs": [
        {
          "output_type": "stream",
          "text": [
            "Enter a number: -5\n",
            "num is negative\n"
          ],
          "name": "stdout"
        }
      ]
    },
    {
      "cell_type": "code",
      "metadata": {
        "id": "O_3Z8Wmh-Hv5",
        "colab_type": "code",
        "colab": {
          "base_uri": "https://localhost:8080/",
          "height": 52
        },
        "outputId": "993a9c9b-a9d5-467e-c23f-3e1cd5478d45"
      },
      "source": [
        "# 14-2-3\n",
        "num = int(input(\"Enter a number: \")) #指定數入的整數給變數num\n",
        "if num > 0:  #如果變數num的值大於0\n",
        "    print(\"num is positive\")  #則列印出字串num is positive\n",
        "elif num < 0: #否則如果變數num的值小於0\n",
        "    print(\"num is negative\")  #則列印出字串num is negative\n",
        "else: #否則\n",
        "    print(\"num is zero\") #列印出字串num is zero"
      ],
      "execution_count": 11,
      "outputs": [
        {
          "output_type": "stream",
          "text": [
            "Enter a number: 0\n",
            "num is zero\n"
          ],
          "name": "stdout"
        }
      ]
    },
    {
      "cell_type": "code",
      "metadata": {
        "id": "XBVACHYp-s0N",
        "colab_type": "code",
        "colab": {
          "base_uri": "https://localhost:8080/",
          "height": 87
        },
        "outputId": "b19a8c5b-a538-4606-eea2-93537bfd1e7e"
      },
      "source": [
        "#14-3-1\n",
        "num_a = int(input(\"pick a number: \")) #指定輸入的整數給變數num_a\n",
        "num_b = int(input(\"pick another number: \"))  #指定輸入的整數給變數num_b\n",
        "lucky_num = 7 #指定整數7給變數lucky_num\n",
        "if num_a==num_b:  #如果變數num_a的值等於變數num_b的值\n",
        "    print(\"You enter the same number\")  #則列印出字串You enter the same number\n",
        "else:#否則\n",
        "    if num_a > 0 and num_b > 0: #如果變數num_a的值大於0 及 變數num_b的值也大於0\n",
        "        print(\"both numbers are positive\") #則列印出字串both numbers are positive\n",
        "    elif num_a < 0 and num_b < 0: #否則如果變數num_a的值小於0 及 變數num_b的值也小於0\n",
        "        print(\"both numbers are negative\") #則列印出字串both numbers are negative\n",
        "    else:#否則\n",
        "        print(\"numbers have opposite sign\") #則列印出字串numbers have opposite sign\n",
        "if num_a == lucky_num or num_b == lucky_num: #如果變數num_a的值等於7 或 變數num_b的值等於7\n",
        "    print(\"you also guessed my lucky number!\") #則列印出字串you also guessed my lucky number!\n",
        "else: #否則\n",
        "    print(\"I have a secret number in mind...\") #則列印出字串\"I have a secret number in mind..."
      ],
      "execution_count": 17,
      "outputs": [
        {
          "output_type": "stream",
          "text": [
            "pick a number: 5\n",
            "pick another number: 5\n",
            "You enter the same number\n",
            "I have a secret number in mind...\n"
          ],
          "name": "stdout"
        }
      ]
    },
    {
      "cell_type": "code",
      "metadata": {
        "id": "an0KQxI-BBj2",
        "colab_type": "code",
        "colab": {
          "base_uri": "https://localhost:8080/",
          "height": 87
        },
        "outputId": "0cf0e548-b315-4929-81e0-4fafdf6af3a1"
      },
      "source": [
        "#14-3-2\n",
        "num_a = int(input(\"pick a number: \")) #指定輸入的整數給變數num_a\n",
        "num_b = int(input(\"pick another number: \"))  #指定輸入的整數給變數num_b\n",
        "lucky_num = 7 #指定整數7給變數lucky_num\n",
        "if num_a==num_b:  #如果變數num_a的值等於變數num_b的值\n",
        "    print(\"You enter the same number\")  #則列印出字串You enter the same number\n",
        "else:#否則\n",
        "    if num_a > 0 and num_b > 0: #如果變數num_a的值大於0 及 變數num_b的值也大於0\n",
        "        print(\"both numbers are positive\") #則列印出字串both numbers are positive\n",
        "    elif num_a < 0 and num_b < 0: #否則如果變數num_a的值小於0 及 變數num_b的值也小於0\n",
        "        print(\"both numbers are negative\") #則列印出字串both numbers are negative\n",
        "    else:#否則\n",
        "        print(\"numbers have opposite sign\") #則列印出字串numbers have opposite sign\n",
        "if num_a == lucky_num or num_b == lucky_num: #如果變數num_a的值等於7 或 變數num_b的值等於7\n",
        "    print(\"you also guessed my lucky number!\") #則列印出字串you also guessed my lucky number!\n",
        "else: #否則\n",
        "    print(\"I have a secret number in mind...\") #則列印出字串\"I have a secret number in mind..."
      ],
      "execution_count": 18,
      "outputs": [
        {
          "output_type": "stream",
          "text": [
            "pick a number: 5\n",
            "pick another number: 6\n",
            "both numbers are positive\n",
            "I have a secret number in mind...\n"
          ],
          "name": "stdout"
        }
      ]
    },
    {
      "cell_type": "code",
      "metadata": {
        "id": "xJ7GUtd8BCNc",
        "colab_type": "code",
        "colab": {
          "base_uri": "https://localhost:8080/",
          "height": 87
        },
        "outputId": "969dd684-997a-40b8-dd5c-3276e551173d"
      },
      "source": [
        "#14-3-3\n",
        "num_a = int(input(\"pick a number: \")) #指定輸入的整數給變數num_a\n",
        "num_b = int(input(\"pick another number: \"))  #指定輸入的整數給變數num_b\n",
        "lucky_num = 7 #指定整數7給變數lucky_num\n",
        "if num_a==num_b:  #如果變數num_a的值等於變數num_b的值\n",
        "    print(\"You enter the same number\")  #則列印出字串You enter the same number\n",
        "else:#否則\n",
        "    if num_a > 0 and num_b > 0: #如果變數num_a的值大於0 及 變數num_b的值也大於0\n",
        "        print(\"both numbers are positive\") #則列印出字串both numbers are positive\n",
        "    elif num_a < 0 and num_b < 0: #否則如果變數num_a的值小於0 及 變數num_b的值也小於0\n",
        "        print(\"both numbers are negative\") #則列印出字串both numbers are negative\n",
        "    else:#否則\n",
        "        print(\"numbers have opposite sign\") #則列印出字串numbers have opposite sign\n",
        "if num_a == lucky_num or num_b == lucky_num: #如果變數num_a的值等於7 或 變數num_b的值等於7\n",
        "    print(\"you also guessed my lucky number!\") #則列印出字串you also guessed my lucky number!\n",
        "else: #否則\n",
        "    print(\"I have a secret number in mind...\") #則列印出字串\"I have a secret number in mind..."
      ],
      "execution_count": 19,
      "outputs": [
        {
          "output_type": "stream",
          "text": [
            "pick a number: -3\n",
            "pick another number: -2\n",
            "both numbers are negative\n",
            "I have a secret number in mind...\n"
          ],
          "name": "stdout"
        }
      ]
    },
    {
      "cell_type": "code",
      "metadata": {
        "id": "q9DF1uwsBCw2",
        "colab_type": "code",
        "colab": {
          "base_uri": "https://localhost:8080/",
          "height": 87
        },
        "outputId": "a3cd67aa-482f-457d-93e6-b3cc6b486271"
      },
      "source": [
        "#14-3-4\n",
        "num_a = int(input(\"pick a number: \")) #指定輸入的整數給變數num_a\n",
        "num_b = int(input(\"pick another number: \"))  #指定輸入的整數給變數num_b\n",
        "lucky_num = 7 #指定整數7給變數lucky_num\n",
        "if num_a==num_b:  #如果變數num_a的值等於變數num_b的值\n",
        "    print(\"You enter the same number\")  #則列印出字串You enter the same number\n",
        "else:#否則\n",
        "    if num_a > 0 and num_b > 0: #如果變數num_a的值大於0 及 變數num_b的值也大於0\n",
        "        print(\"both numbers are positive\") #則列印出字串both numbers are positive\n",
        "    elif num_a < 0 and num_b < 0: #否則如果變數num_a的值小於0 及 變數num_b的值也小於0\n",
        "        print(\"both numbers are negative\") #則列印出字串both numbers are negative\n",
        "    else:#否則\n",
        "        print(\"numbers have opposite sign\") #則列印出字串numbers have opposite sign\n",
        "if num_a == lucky_num or num_b == lucky_num: #如果變數num_a的值等於7 或 變數num_b的值等於7\n",
        "    print(\"you also guessed my lucky number!\") #則列印出字串you also guessed my lucky number!\n",
        "else: #否則\n",
        "    print(\"I have a secret number in mind...\") #則列印出字串\"I have a secret number in mind..."
      ],
      "execution_count": 23,
      "outputs": [
        {
          "output_type": "stream",
          "text": [
            "pick a number: 7\n",
            "pick another number: 2\n",
            "both numbers are positive\n",
            "you also guessed my lucky number!\n"
          ],
          "name": "stdout"
        }
      ]
    },
    {
      "cell_type": "code",
      "metadata": {
        "id": "iKrRxDGNDYZf",
        "colab_type": "code",
        "colab": {
          "base_uri": "https://localhost:8080/",
          "height": 87
        },
        "outputId": "2c805ead-a43d-426b-f761-4cca58d3c685"
      },
      "source": [
        "# 14-5-1\n",
        "greeting = input(\"Say hi in English or Spanish! \")\n",
        "#指定輸入的字串(英文或西班牙語的打招呼)給變數greeting\n",
        "greet_en =(\"hi\", \"Hi\", \"hello\", \"Hello\") \n",
        "#指定4個字串hi,Hi,hello,Hello給變數greet_en\n",
        "greet_sp =(\"hola\", \"Hola\") \n",
        "#指定2個字串hola,Hola\n",
        "if greeting not in greet_en and greeting not in greet_sp: \n",
        "#如果輸入的字串不是英文及西班牙語的打招呼\n",
        "    print(\"I don't understand your greeting.\") \n",
        "  #則列印出字串I don't understand your greeting.\n",
        "elif greeting in greet_en: #否則如果輸入英文的打招呼\n",
        "  num = int(input(\"Enter 1 or 2: \")) #指定輸入的整數(1或2)給變數num\n",
        "  print(\"You speak English!\") #則列印出字串You speak English!\n",
        "  if num == 1: #如果num的值等於1\n",
        "      print(\"one\") #則列印出字串one\n",
        "  elif num == 2: #否則如果num的值等於2\n",
        "      print(\"two\") #則列印出字串two\n",
        "elif greeting in greet_sp: #否則如果輸入西班牙的打招呼\n",
        "    num = int(input(\"Enter 1 or 2: \")) #指定輸入的整數(1或2)給變數num\n",
        "    print(\"You speak Spanish!\")  #則列印出字串You speak Spanish!\n",
        "    if num == 1:   #如果num的值等於1\n",
        "        print(\"uno\") #則列印出字串uno\n",
        "    elif num == 2:  #如果num的值等於1\n",
        "        print(\"dos\") #則列印出字串dos"
      ],
      "execution_count": 27,
      "outputs": [
        {
          "output_type": "stream",
          "text": [
            "Say hi in English or Spanish! hi\n",
            "Enter 1 or 2: 1\n",
            "You speak English!\n",
            "one\n"
          ],
          "name": "stdout"
        }
      ]
    },
    {
      "cell_type": "code",
      "metadata": {
        "id": "T_LyJU7-HM3i",
        "colab_type": "code",
        "colab": {
          "base_uri": "https://localhost:8080/",
          "height": 87
        },
        "outputId": "977c5d8c-408e-41b6-9a48-139cdef9a42b"
      },
      "source": [
        "# 14-5-2\n",
        "greeting = input(\"Say hi in English or Spanish! \")\n",
        "#指定輸入的字串(英文或西班牙語的打招呼)給變數greeting\n",
        "greet_en =(\"hi\", \"Hi\", \"hello\", \"Hello\") \n",
        "#指定4個字串hi,Hi,hello,Hello給變數greet_en\n",
        "greet_sp =(\"hola\", \"Hola\") \n",
        "#指定2個字串hola,Hola\n",
        "if greeting not in greet_en and greeting not in greet_sp: \n",
        "#如果輸入的字串不是英文及西班牙語的打招呼\n",
        "    print(\"I don't understand your greeting.\") \n",
        "  #則列印出字串I don't understand your greeting.\n",
        "elif greeting in greet_en: #否則如果輸入英文的打招呼\n",
        "  num = int(input(\"Enter 1 or 2: \")) #指定輸入的整數(1或2)給變數num\n",
        "  print(\"You speak English!\") #則列印出字串You speak English!\n",
        "  if num == 1: #如果num的值等於1\n",
        "      print(\"one\") #則列印出字串one\n",
        "  elif num == 2: #否則如果num的值等於2\n",
        "      print(\"two\") #則列印出字串two\n",
        "elif greeting in greet_sp: #否則如果輸入西班牙的打招呼\n",
        "    num = int(input(\"Enter 1 or 2: \")) #指定輸入的整數(1或2)給變數num\n",
        "    print(\"You speak Spanish!\")  #則列印出字串You speak Spanish!\n",
        "    if num == 1:   #如果num的值等於1\n",
        "        print(\"uno\") #則列印出字串uno\n",
        "    elif num == 2:  #如果num的值等於1\n",
        "        print(\"dos\") #則列印出字串dos"
      ],
      "execution_count": 28,
      "outputs": [
        {
          "output_type": "stream",
          "text": [
            "Say hi in English or Spanish! hola\n",
            "Enter 1 or 2: 2\n",
            "You speak Spanish!\n",
            "dos\n"
          ],
          "name": "stdout"
        }
      ]
    }
  ]
}
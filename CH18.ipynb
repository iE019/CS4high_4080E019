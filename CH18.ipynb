{
  "nbformat": 4,
  "nbformat_minor": 0,
  "metadata": {
    "colab": {
      "name": "CH18.ipynb",
      "provenance": [],
      "include_colab_link": true
    },
    "kernelspec": {
      "name": "python3",
      "display_name": "Python 3"
    }
  },
  "cells": [
    {
      "cell_type": "markdown",
      "metadata": {
        "id": "view-in-github",
        "colab_type": "text"
      },
      "source": [
        "<a href=\"https://colab.research.google.com/github/iE019/CS4high_4080E019/blob/master/CH18.ipynb\" target=\"_parent\"><img src=\"https://colab.research.google.com/assets/colab-badge.svg\" alt=\"Open In Colab\"/></a>"
      ]
    },
    {
      "cell_type": "code",
      "metadata": {
        "id": "HRKybPIhta0n",
        "colab_type": "code",
        "colab": {
          "base_uri": "https://localhost:8080/",
          "height": 260
        },
        "outputId": "81c1365f-3d38-4c81-b38a-23b5dd9e97e6"
      },
      "source": [
        "# 18-1\n",
        "for ch in \"Python is fun!\":\n",
        "#迴圈跑的次數等於字串Python is fun!所有的字元數\n",
        "    print(\"the character is\", ch) \n",
        "#列印出字串the character is，及分批連接字串中所有的字元"
      ],
      "execution_count": 2,
      "outputs": [
        {
          "output_type": "stream",
          "text": [
            "the character is P\n",
            "the character is y\n",
            "the character is t\n",
            "the character is h\n",
            "the character is o\n",
            "the character is n\n",
            "the character is  \n",
            "the character is i\n",
            "the character is s\n",
            "the character is  \n",
            "the character is f\n",
            "the character is u\n",
            "the character is n\n",
            "the character is !\n"
          ],
          "name": "stdout"
        }
      ]
    },
    {
      "cell_type": "code",
      "metadata": {
        "id": "MdyXt4flukAf",
        "colab_type": "code",
        "colab": {
          "base_uri": "https://localhost:8080/",
          "height": 260
        },
        "outputId": "82f5fe80-3274-4d6c-ffb8-118cd15329cb"
      },
      "source": [
        "# 18-2\n",
        "my_string = \"Python is fun!\"  #指定字串Python is fun!給變數my_string\n",
        "len_s = len(my_string) #指定變數my_string中字串的字元數(14個字元)給變數len_s\n",
        "for i in range(len_s): #迴圈跑的次數等於字串Python is fun!所有的字元數\n",
        "    print(\"the character is\", my_string[i]) \n",
        "    #列印出字串the character is，及分批連接字串中所有的字元"
      ],
      "execution_count": 4,
      "outputs": [
        {
          "output_type": "stream",
          "text": [
            "the character is P\n",
            "the character is y\n",
            "the character is t\n",
            "the character is h\n",
            "the character is o\n",
            "the character is n\n",
            "the character is  \n",
            "the character is i\n",
            "the character is s\n",
            "the character is  \n",
            "the character is f\n",
            "the character is u\n",
            "the character is n\n",
            "the character is !\n"
          ],
          "name": "stdout"
        }
      ]
    },
    {
      "cell_type": "code",
      "metadata": {
        "id": "QDK3F_ekwQuW",
        "colab_type": "code",
        "colab": {
          "base_uri": "https://localhost:8080/",
          "height": 87
        },
        "outputId": "2d01d964-c573-41ad-ced8-67bf5c24686b"
      },
      "source": [
        "# 18-3\n",
        "winners =(\"Peter\", \"Mark\", \"Joy\") #指定3個字串給變數winners\n",
        "print(\" 恭喜以下得獎人:\") #列印出字串 恭喜以下得獎人:\n",
        "for name in winners: #迴圈跑的次數等於變數winners所有的字串數(3)\n",
        "    print(name) #依序換行列印出變數winners裡的字串"
      ],
      "execution_count": 5,
      "outputs": [
        {
          "output_type": "stream",
          "text": [
            " 恭喜以下得獎人:\n",
            "Peter\n",
            "Mark\n",
            "Joy\n"
          ],
          "name": "stdout"
        }
      ]
    },
    {
      "cell_type": "code",
      "metadata": {
        "id": "JbEZ6RiTxOct",
        "colab_type": "code",
        "colab": {
          "base_uri": "https://localhost:8080/",
          "height": 87
        },
        "outputId": "798dafdd-2086-4089-f524-d7345833e28d"
      },
      "source": [
        "# 18-4\n",
        "prizes =(\" 頭獎 \", \" 二獎 \", \" 三獎 \") #指定3個字串給變數prizes\n",
        "winners =(\"Peter\", \"Mark\", \"Joy\")  #指定3個字串給變數winners\n",
        "print(\" 恭喜以下得獎人:\")  #列印出字串 恭喜以下得獎人:\n",
        "for i in range(3): #迴圈跑3次\n",
        "    print(prizes[i]+ \":\" + winners[i]) \n",
        "    #依序換行列印出變數prizes裡的字串，連接字串:，再連接變數winners裡的字串"
      ],
      "execution_count": 7,
      "outputs": [
        {
          "output_type": "stream",
          "text": [
            " 恭喜以下得獎人:\n",
            " 頭獎 :Peter\n",
            " 二獎 :Mark\n",
            " 三獎 :Joy\n"
          ],
          "name": "stdout"
        }
      ]
    },
    {
      "cell_type": "code",
      "metadata": {
        "id": "HORzp4KHyqw2",
        "colab_type": "code",
        "colab": {
          "base_uri": "https://localhost:8080/",
          "height": 87
        },
        "outputId": "7c5e4da0-232b-43e7-c7ef-06ae10c7e86f"
      },
      "source": [
        "# 18-5\n",
        "winners =((\" 頭獎 \", \"Peter\"),(\" 二獎 \", \"Mark\"),(\" 三獎 \", \"Joy\"))\n",
        "#指定3個元組給變數winners\n",
        "print(\" 恭喜以下得獎人:\")\n",
        "for e in winners: #迴圈跑的次數等於變數winners所有的元組數\n",
        "    print(e[0]+ \":\" + e[1]) \n",
        "    #依序列印出變數winners的元組中索引0，連接字串:，再連接索引1的字串"
      ],
      "execution_count": 11,
      "outputs": [
        {
          "output_type": "stream",
          "text": [
            " 恭喜以下得獎人:\n",
            " 頭獎 :Peter\n",
            " 二獎 :Mark\n",
            " 三獎 :Joy\n"
          ],
          "name": "stdout"
        }
      ]
    },
    {
      "cell_type": "code",
      "metadata": {
        "id": "hhuyrHmo0DFV",
        "colab_type": "code",
        "colab": {
          "base_uri": "https://localhost:8080/",
          "height": 87
        },
        "outputId": "12a2ee1e-b6e4-4473-f250-dfdbb6d82df2"
      },
      "source": [
        "# 18-6\n",
        "winners =((\" 頭獎 \", \"Peter\"),(\" 二獎 \", \"Mark\"),(\" 三獎 \", \"Joy\"))\n",
        "print(\" 恭喜以下獎人:\")\n",
        "for prize, winner in winners:\n",
        "    print(prize+ \":\" + winner) "
      ],
      "execution_count": 10,
      "outputs": [
        {
          "output_type": "stream",
          "text": [
            " 恭喜以下獎人:\n",
            " 頭獎 :Peter\n",
            " 二獎 :Mark\n",
            " 三獎 :Joy\n"
          ],
          "name": "stdout"
        }
      ]
    },
    {
      "cell_type": "code",
      "metadata": {
        "id": "xtWTlYY70joz",
        "colab_type": "code",
        "colab": {
          "base_uri": "https://localhost:8080/",
          "height": 69
        },
        "outputId": "f33b588e-1eb4-4fbd-a00a-0e107056a163"
      },
      "source": [
        "# 18-7for迴圈\n",
        "for x in range(3):\n",
        "    print(\"var x is\", x)"
      ],
      "execution_count": 12,
      "outputs": [
        {
          "output_type": "stream",
          "text": [
            "var x is 0\n",
            "var x is 1\n",
            "var x is 2\n"
          ],
          "name": "stdout"
        }
      ]
    },
    {
      "cell_type": "code",
      "metadata": {
        "id": "M1jBIEnq1Nxu",
        "colab_type": "code",
        "colab": {
          "base_uri": "https://localhost:8080/",
          "height": 69
        },
        "outputId": "7337397c-dc72-40e3-dac7-ebabe23f556c"
      },
      "source": [
        "# 18-7while迴圈\n",
        " x = 0\n",
        "while x < 3:\n",
        "    print(\"var x is\", x)\n",
        "    x += 1"
      ],
      "execution_count": 13,
      "outputs": [
        {
          "output_type": "stream",
          "text": [
            "var x is 0\n",
            "var x is 1\n",
            "var x is 2\n"
          ],
          "name": "stdout"
        }
      ]
    }
  ]
}
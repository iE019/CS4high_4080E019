{
  "nbformat": 4,
  "nbformat_minor": 0,
  "metadata": {
    "colab": {
      "name": "CH10.ipynb",
      "provenance": [],
      "include_colab_link": true
    },
    "kernelspec": {
      "name": "python3",
      "display_name": "Python 3"
    }
  },
  "cells": [
    {
      "cell_type": "markdown",
      "metadata": {
        "id": "view-in-github",
        "colab_type": "text"
      },
      "source": [
        "<a href=\"https://colab.research.google.com/github/iE019/CS4high_4080E019/blob/master/CH10.ipynb\" target=\"_parent\"><img src=\"https://colab.research.google.com/assets/colab-badge.svg\" alt=\"Open In Colab\"/></a>"
      ]
    },
    {
      "cell_type": "code",
      "metadata": {
        "id": "jN3s8jYIjUwK",
        "colab_type": "code",
        "colab": {
          "base_uri": "https://localhost:8080/",
          "height": 87
        },
        "outputId": "e62bf36b-2380-483c-94b0-dc67a1923d27"
      },
      "source": [
        "# 10-1\n",
        "print(\"hello!\")  #列印出hello!\n",
        "print(3*2*(17-2.1)) #列印出運算的結果\n",
        "print(\"abc\"+\"def\")  #列印出abc連著def的字串\n",
        "word = \"art\"  #指定art這個字串給變數word\n",
        "print(word.replace(\"r\", \"n\"))  #替換art的r為n"
      ],
      "execution_count": 1,
      "outputs": [
        {
          "output_type": "stream",
          "text": [
            "hello!\n",
            "89.4\n",
            "abcdef\n",
            "ant\n"
          ],
          "name": "stdout"
        }
      ]
    },
    {
      "cell_type": "code",
      "metadata": {
        "id": "RCLoae6PjlR6",
        "colab_type": "code",
        "colab": {}
      },
      "source": [
        "# 10-2\n",
        "a= 1  #指定整數1給變數a\n",
        "b= 2  #指定整數2給變數b\n",
        "c = a/b  #指定整數1除2給變數c\n",
        "print(a, \"/\", b, \"=\", c)   #列印出1/2=0.5\n",
        "add = str(a)+\"/\"+str(b)+\"=\"+str(c)  \n",
        "#指定，整數1轉換成字串/整數2也轉換成字串=整數0.5轉換成的字串，給變數add\n",
        "print(add)  #列印出1/2=0.5這個字串"
      ],
      "execution_count": 0,
      "outputs": []
    },
    {
      "cell_type": "code",
      "metadata": {
        "id": "UF3oh9h-j-tR",
        "colab_type": "code",
        "colab": {
          "base_uri": "https://localhost:8080/",
          "height": 52
        },
        "outputId": "9cd871b3-5557-4b95-96e5-d89c1cf4ca6f"
      },
      "source": [
        "# 10-3\n",
        "input(\"Where do you live? \") #用鍵盤輸入你住的縣市\n",
        "print(\"I live in Boston. \") #列印出 I live in Boston."
      ],
      "execution_count": 2,
      "outputs": [
        {
          "output_type": "stream",
          "text": [
            "Where do you live? 台南市\n",
            "I live in Boston. \n"
          ],
          "name": "stdout"
        }
      ]
    },
    {
      "cell_type": "code",
      "metadata": {
        "id": "ETpWGmtwkHyl",
        "colab_type": "code",
        "colab": {
          "base_uri": "https://localhost:8080/",
          "height": 69
        },
        "outputId": "c194979e-9b39-4267-9c9a-15e403b3730d"
      },
      "source": [
        "# 10-4\n",
        "user_place = input(\"Where do you live? \")  #指定，用鍵盤輸入的縣市，給user_place\n",
        "text = user_place.capitalize()+ \"!\"   #指定，用鍵盤輸入的縣市，連著!，給text\n",
        "print(text)  #列印出你所輸入的縣市，再連著!\n",
        "print(\"I hear it's nice there!\")  #列印出I hear it's nice there!"
      ],
      "execution_count": 3,
      "outputs": [
        {
          "output_type": "stream",
          "text": [
            "Where do you live? 台南市\n",
            "台南市!\n",
            "I hear it's nice there!\n"
          ],
          "name": "stdout"
        }
      ]
    },
    {
      "cell_type": "code",
      "metadata": {
        "id": "YNnPOcFXkm1d",
        "colab_type": "code",
        "colab": {
          "base_uri": "https://localhost:8080/",
          "height": 69
        },
        "outputId": "0905b00d-fad6-47d0-c2cb-95a316bbf120"
      },
      "source": [
        "# 10-5\n",
        "num = int(input (\"Enter a number to find the square of: \"))  \n",
        "#指定，輸入一個數字來求的平方，給變數num\n",
        "user_input = input(\"Enter a integer to find the square of: \") \n",
        "#指定，輸入一個整數來求的平方，給變數ser_input\n",
        "num = int(user_input) #指定user_input裡的整數，給變數num\n",
        "print(num*num) #列印出用鍵盤輸入的整數的平方"
      ],
      "execution_count": 4,
      "outputs": [
        {
          "output_type": "stream",
          "text": [
            "Enter a number to find the square of: 8\n",
            "Enter a integer to find the square of: 5\n",
            "25\n"
          ],
          "name": "stdout"
        }
      ]
    },
    {
      "cell_type": "code",
      "metadata": {
        "id": "3lO6rnnflEJV",
        "colab_type": "code",
        "colab": {
          "base_uri": "https://localhost:8080/",
          "height": 69
        },
        "outputId": "077b5558-927e-4ccb-d3e2-c283c840e397"
      },
      "source": [
        "# 10-6\n",
        "num1 = float(input(\"Enter a number: \")) #指定，用鍵盤輸入的字串轉換成浮點數，給變數num1\n",
        "num2 = float(input(\"Enter another number: \"))  #指定，用鍵盤輸入的字串轉換成浮點數，給變數num2\n",
        "print(num1, \"*\", num2, \"=\", num1*num2)  #列印出被轉換成浮點數的num1*num2=浮點數的結果"
      ],
      "execution_count": 5,
      "outputs": [
        {
          "output_type": "stream",
          "text": [
            "Enter a number: 10\n",
            "Enter another number: 20\n",
            "10.0 * 20.0 = 200.0\n"
          ],
          "name": "stdout"
        }
      ]
    }
  ]
}